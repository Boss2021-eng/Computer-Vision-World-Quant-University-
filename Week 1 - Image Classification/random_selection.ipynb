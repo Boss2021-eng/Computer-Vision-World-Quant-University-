{
 "cells": [
  {
   "cell_type": "code",
   "execution_count": null,
   "id": "887d03ff",
   "metadata": {},
   "outputs": [],
   "source": [
    "import matplotlib.pyplot as plt\n",
    "import random\n",
    "\n",
    "# Sample 12 random indices from the test dataset\n",
    "sample_indices = random.sample(range(len(test_loader.dataset.samples)), 12)\n",
    "\n",
    "# Create a grid of 4x3 subplots\n",
    "fig, axes = plt.subplots(4, 3, figsize=(20, 10))\n",
    "\n",
    "# Iterate over the sampled indices and plot the corresponding images\n",
    "for ax, idx in zip(axes.flatten(), sample_indices):\n",
    "    image_path = test_loader.dataset.samples[idx][0]\n",
    "    img = Image.open(image_path)\n",
    "\n",
    "    # Display the image on the axis\n",
    "    ax.imshow(img)\n",
    "    ax.axis('off')\n",
    "\n",
    "    # Get the predicted class for this image\n",
    "    predicted_class = test_classes[idx]\n",
    "\n",
    "    # Set the title of the subplot to the predicted class\n",
    "    ax.set_title(f\"Predicted: {predicted_class}\", fontsize=14)\n",
    "\n",
    "plt.tight_layout()"
   ]
  }
 ],
 "metadata": {
  "language_info": {
   "name": "python"
  }
 },
 "nbformat": 4,
 "nbformat_minor": 5
}
