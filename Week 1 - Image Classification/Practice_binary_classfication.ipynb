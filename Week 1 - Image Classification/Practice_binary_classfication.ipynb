{
 "cells": [
  {
   "cell_type": "code",
   "execution_count": 1,
   "id": "8293a3f9-a7b8-4869-9b72-51f137b607df",
   "metadata": {},
   "outputs": [],
   "source": [
    "import os\n",
    "import sys\n",
    "from collections import Counter\n",
    "\n",
    "import cv2\n",
    "import matplotlib\n",
    "import matplotlib.pyplot as plt\n",
    "import numpy as np\n",
    "import pandas as pd\n",
    "import PIL\n",
    "import sklearn\n",
    "import torch\n",
    "import torch.nn as nn\n",
    "import torch.nn.functional as F\n",
    "import torch.optim as optim\n",
    "import torchinfo\n",
    "import torchvision\n",
    "from PIL import Image\n",
    "from sklearn.metrics import ConfusionMatrixDisplay, confusion_matrix\n",
    "from torch.utils.data import DataLoader, random_split\n",
    "from torchinfo import summary\n",
    "from torchvision import datasets, transforms\n",
    "from tqdm.notebook import tqdm\n",
    "from tqdm.version import __version__ as tqdm__version__\n",
    "\n",
    "torch.backends.cudnn.deterministic = True"
   ]
  },
  {
   "cell_type": "code",
   "execution_count": 2,
   "id": "5ba18392-3046-4b37-887d-3f02872ab950",
   "metadata": {},
   "outputs": [
    {
     "name": "stdout",
     "output_type": "stream",
     "text": [
      "Platform: linux\n",
      "Python version: 3.11.0 (main, Nov 15 2022, 20:12:54) [GCC 10.2.1 20210110]\n",
      "---\n",
      "CV2 version :  4.10.0\n",
      "matplotlib version :  3.9.2\n",
      "numpy version :  1.26.3\n",
      "torch version :  2.2.2+cu121\n",
      "torchinfo version :  1.8.0\n",
      "torchvision version :  0.17.2+cu121\n",
      "PIL version :  10.2.0\n",
      "scikit-learn version:  1.5.2\n",
      "tqdm version:  4.66.5\n"
     ]
    }
   ],
   "source": [
    "print(\"Platform:\", sys.platform)\n",
    "print(\"Python version:\", sys.version)\n",
    "print(\"---\")\n",
    "print(\"CV2 version : \", cv2.__version__)\n",
    "print(\"matplotlib version : \", matplotlib.__version__)\n",
    "print(\"numpy version : \", np.__version__)\n",
    "print(\"torch version : \", torch.__version__)\n",
    "print(\"torchinfo version : \", torchinfo.__version__)\n",
    "print(\"torchvision version : \", torchvision.__version__)\n",
    "print(\"PIL version : \", PIL.__version__)\n",
    "print(\"scikit-learn version: \", sklearn.__version__)\n",
    "print(\"tqdm version: \", tqdm__version__)"
   ]
  },
  {
   "cell_type": "code",
   "execution_count": 3,
   "id": "74f85fd1-16de-4e1f-aaeb-893f2105fb46",
   "metadata": {},
   "outputs": [
    {
     "name": "stdout",
     "output_type": "stream",
     "text": [
      "Using cuda device.\n"
     ]
    }
   ],
   "source": [
    "if torch.cuda.is_available():\n",
    "    device = \"cuda\"\n",
    "elif torch.backends.mps.is_available():\n",
    "    device = \"mps\"\n",
    "else:\n",
    "    device = \"cpu\"\n",
    "\n",
    "print(f\"Using {device} device.\")"
   ]
  },
  {
   "cell_type": "code",
   "execution_count": 4,
   "id": "88cae460-8263-4a9a-a0ac-4275a2d2d83c",
   "metadata": {},
   "outputs": [
    {
     "name": "stdout",
     "output_type": "stream",
     "text": [
      "data_p1/data_binary\n",
      "data_p1/data_binary/train\n"
     ]
    }
   ],
   "source": [
    "data_dir = os.path.join(\"data_p1\", \"data_binary\")\n",
    "train_dir = os.path.join(data_dir, \"train\")\n",
    "print(data_dir)\n",
    "print(train_dir)"
   ]
  },
  {
   "cell_type": "code",
   "execution_count": 5,
   "id": "824af5b8-ae40-4364-b0ff-0733fed3ea45",
   "metadata": {},
   "outputs": [
    {
     "data": {
      "text/plain": [
       "['hog', 'blank']"
      ]
     },
     "execution_count": 5,
     "metadata": {},
     "output_type": "execute_result"
    }
   ],
   "source": [
    "labels= os.listdir(train_dir)\n",
    "labels"
   ]
  },
  {
   "cell_type": "code",
   "execution_count": 6,
   "id": "26174d48-0109-4fb0-b9b8-2576b9040706",
   "metadata": {},
   "outputs": [
    {
     "data": {
      "text/plain": [
       "'data_p1/data_binary/train/hog'"
      ]
     },
     "execution_count": 6,
     "metadata": {},
     "output_type": "execute_result"
    }
   ],
   "source": [
    "hog_path = os.path.join(train_dir, \"hog\")\n",
    "hog_path"
   ]
  },
  {
   "cell_type": "code",
   "execution_count": 7,
   "id": "a414193b-7c50-4ac5-9044-3867991a867b",
   "metadata": {},
   "outputs": [
    {
     "data": {
      "text/plain": [
       "'data_p1/data_binary/train/blank'"
      ]
     },
     "execution_count": 7,
     "metadata": {},
     "output_type": "execute_result"
    }
   ],
   "source": [
    "blank_path = os.path.join(train_dir, \"blank\")\n",
    "blank_path"
   ]
  },
  {
   "cell_type": "code",
   "execution_count": 8,
   "id": "f6d5dfe0-c173-4382-9569-8f2a07242320",
   "metadata": {},
   "outputs": [],
   "source": [
    "# hog_image_path = os.path.join(hog_path, \"ZJ0000032.jpg\")\n",
    "# print(hog_image_path)\n",
    "# hog_image_pil = Image.open(hog_image_path)"
   ]
  },
  {
   "cell_type": "code",
   "execution_count": 9,
   "id": "d17e2080-70ab-4cb8-ad2a-5308359992c9",
   "metadata": {},
   "outputs": [],
   "source": [
    "hog_image = os.listdir(hog_path) [0]\n",
    "hog_image\n",
    "hog_image_path = os.path.join(hog_path, hog_image)\n",
    "hog_image_pil = Image.open(hog_image_path)"
   ]
  },
  {
   "cell_type": "code",
   "execution_count": 10,
   "id": "fbdf2524-6b69-41b0-ae07-43483d75b8d6",
   "metadata": {},
   "outputs": [
    {
     "data": {
      "text/plain": [
       "(360, 240)"
      ]
     },
     "execution_count": 10,
     "metadata": {},
     "output_type": "execute_result"
    }
   ],
   "source": [
    "hog_image_pil.mode\n",
    "hog_image_pil.size"
   ]
  },
  {
   "cell_type": "code",
   "execution_count": 11,
   "id": "d526c400-ee21-4acb-b11f-5db27b3b359b",
   "metadata": {},
   "outputs": [
    {
     "data": {
      "image/jpeg": "[encoded data removed]",
      "image/png": "[encoded data removed]",
      "text/plain": [
       "<PIL.JpegImagePlugin.JpegImageFile image mode=L size=360x240>"
      ]
     },
     "execution_count": 11,
     "metadata": {},
     "output_type": "execute_result"
    }
   ],
   "source": [
    "hog_image_pil"
   ]
  },
  {
   "cell_type": "code",
   "execution_count": 12,
   "id": "d42ee4da-f50c-4e00-8b82-c09c9b334ce0",
   "metadata": {},
   "outputs": [
    {
     "data": {
      "text/plain": [
       "Text(0.5, 1.0, 'hog_image')"
      ]
     },
     "execution_count": 12,
     "metadata": {},
     "output_type": "execute_result"
    },
    {
     "data": {
      "image/png": "[encoded data removed]",
      "text/plain": [
       "<Figure size 1000x500 with 1 Axes>"
      ]
     },
     "metadata": {},
     "output_type": "display_data"
    }
   ],
   "source": [
    "fig, ax = plt.subplots(figsize=(10,5))\n",
    "ax.imshow(hog_image_pil)\n",
    "ax.set_title(\"hog_image\")\n"
   ]
  },
  {
   "cell_type": "code",
   "execution_count": 13,
   "id": "21bba365-eb37-476e-94e1-b71bd399f0e0",
   "metadata": {},
   "outputs": [],
   "source": [
    "class ConvertToRGB:\n",
    "    def __call__(self, img):\n",
    "        if img.mode != \"RGB\":\n",
    "            img = img.convert(\"RGB\")\n",
    "        return img\n",
    "    "
   ]
  },
  {
   "cell_type": "code",
   "execution_count": 14,
   "id": "12e615e1-cd27-4dcf-b940-69fa94dcf265",
   "metadata": {},
   "outputs": [
    {
     "name": "stdout",
     "output_type": "stream",
     "text": [
      "<class 'torchvision.transforms.transforms.Compose'>\n",
      "Compose(\n",
      "    <__main__.ConvertToRGB object at 0x763988134850>\n",
      "    Resize(size=(224, 224), interpolation=bilinear, max_size=None, antialias=True)\n",
      "    ToTensor()\n",
      ")\n"
     ]
    }
   ],
   "source": [
    "transform = transforms.Compose(\n",
    "    [ConvertToRGB(),\n",
    "    transforms.Resize((224, 224)),\n",
    "    transforms.ToTensor()]\n",
    ")\n",
    "print(type(transform))\n",
    "print(transform)"
   ]
  },
  {
   "cell_type": "code",
   "execution_count": 15,
   "id": "8d3f5a96-1ee0-4a7a-a716-59f4760042f1",
   "metadata": {},
   "outputs": [],
   "source": [
    "dataset = datasets.ImageFolder(root=train_dir, transform=transform)"
   ]
  },
  {
   "cell_type": "code",
   "execution_count": 16,
   "id": "677372da-8812-46c4-8713-b4c75fb574e6",
   "metadata": {},
   "outputs": [
    {
     "data": {
      "text/plain": [
       "['blank', 'hog']"
      ]
     },
     "execution_count": 16,
     "metadata": {},
     "output_type": "execute_result"
    }
   ],
   "source": [
    "dataset.classes"
   ]
  },
  {
   "cell_type": "code",
   "execution_count": 17,
   "id": "2147bd6a-8354-4d3e-90db-9e0ac0dcdcbb",
   "metadata": {},
   "outputs": [
    {
     "data": {
      "text/plain": [
       "[('data_p1/data_binary/train/blank/ZJ000013.jpg', 0),\n",
       " ('data_p1/data_binary/train/blank/ZJ000015.jpg', 0),\n",
       " ('data_p1/data_binary/train/blank/ZJ000018.jpg', 0),\n",
       " ('data_p1/data_binary/train/blank/ZJ000029.jpg', 0),\n",
       " ('data_p1/data_binary/train/blank/ZJ000041.jpg', 0),\n",
       " ('data_p1/data_binary/train/blank/ZJ000045.jpg', 0),\n",
       " ('data_p1/data_binary/train/blank/ZJ000051.jpg', 0),\n",
       " ('data_p1/data_binary/train/blank/ZJ000061.jpg', 0),\n",
       " ('data_p1/data_binary/train/blank/ZJ000062.jpg', 0),\n",
       " ('data_p1/data_binary/train/blank/ZJ000064.jpg', 0),\n",
       " ('data_p1/data_binary/train/blank/ZJ000070.jpg', 0),\n",
       " ('data_p1/data_binary/train/blank/ZJ000082.jpg', 0),\n",
       " ('data_p1/data_binary/train/blank/ZJ000084.jpg', 0),\n",
       " ('data_p1/data_binary/train/blank/ZJ000091.jpg', 0),\n",
       " ('data_p1/data_binary/train/blank/ZJ000100.jpg', 0),\n",
       " ('data_p1/data_binary/train/blank/ZJ000104.jpg', 0),\n",
       " ('data_p1/data_binary/train/blank/ZJ000107.jpg', 0),\n",
       " ('data_p1/data_binary/train/blank/ZJ000110.jpg', 0),\n",
       " ('data_p1/data_binary/train/blank/ZJ000141.jpg', 0),\n",
       " ('data_p1/data_binary/train/blank/ZJ000142.jpg', 0),\n",
       " ('data_p1/data_binary/train/blank/ZJ000144.jpg', 0),\n",
       " ('data_p1/data_binary/train/blank/ZJ000155.jpg', 0),\n",
       " ('data_p1/data_binary/train/blank/ZJ000165.jpg', 0),\n",
       " ('data_p1/data_binary/train/blank/ZJ000168.jpg', 0),\n",
       " ('data_p1/data_binary/train/blank/ZJ000172.jpg', 0),\n",
       " ('data_p1/data_binary/train/blank/ZJ000180.jpg', 0),\n",
       " ('data_p1/data_binary/train/blank/ZJ000181.jpg', 0),\n",
       " ('data_p1/data_binary/train/blank/ZJ000193.jpg', 0),\n",
       " ('data_p1/data_binary/train/blank/ZJ000195.jpg', 0),\n",
       " ('data_p1/data_binary/train/blank/ZJ000196.jpg', 0),\n",
       " ('data_p1/data_binary/train/blank/ZJ000200.jpg', 0),\n",
       " ('data_p1/data_binary/train/blank/ZJ000204.jpg', 0),\n",
       " ('data_p1/data_binary/train/blank/ZJ000221.jpg', 0),\n",
       " ('data_p1/data_binary/train/blank/ZJ000232.jpg', 0),\n",
       " ('data_p1/data_binary/train/blank/ZJ000241.jpg', 0),\n",
       " ('data_p1/data_binary/train/blank/ZJ000252.jpg', 0),\n",
       " ('data_p1/data_binary/train/blank/ZJ000257.jpg', 0),\n",
       " ('data_p1/data_binary/train/blank/ZJ000267.jpg', 0),\n",
       " ('data_p1/data_binary/train/blank/ZJ000276.jpg', 0),\n",
       " ('data_p1/data_binary/train/blank/ZJ000280.jpg', 0),\n",
       " ('data_p1/data_binary/train/blank/ZJ000286.jpg', 0),\n",
       " ('data_p1/data_binary/train/blank/ZJ000295.jpg', 0),\n",
       " ('data_p1/data_binary/train/blank/ZJ000298.jpg', 0),\n",
       " ('data_p1/data_binary/train/blank/ZJ000301.jpg', 0),\n",
       " ('data_p1/data_binary/train/blank/ZJ000316.jpg', 0),\n",
       " ('data_p1/data_binary/train/blank/ZJ000329.jpg', 0),\n",
       " ('data_p1/data_binary/train/blank/ZJ000334.jpg', 0),\n",
       " ('data_p1/data_binary/train/blank/ZJ000341.jpg', 0),\n",
       " ('data_p1/data_binary/train/blank/ZJ000349.jpg', 0),\n",
       " ('data_p1/data_binary/train/blank/ZJ000351.jpg', 0),\n",
       " ('data_p1/data_binary/train/blank/ZJ000363.jpg', 0),\n",
       " ('data_p1/data_binary/train/blank/ZJ000370.jpg', 0),\n",
       " ('data_p1/data_binary/train/blank/ZJ000371.jpg', 0),\n",
       " ('data_p1/data_binary/train/blank/ZJ000372.jpg', 0),\n",
       " ('data_p1/data_binary/train/blank/ZJ000381.jpg', 0),\n",
       " ('data_p1/data_binary/train/blank/ZJ000395.jpg', 0),\n",
       " ('data_p1/data_binary/train/blank/ZJ000402.jpg', 0),\n",
       " ('data_p1/data_binary/train/blank/ZJ000407.jpg', 0),\n",
       " ('data_p1/data_binary/train/blank/ZJ000413.jpg', 0),\n",
       " ('data_p1/data_binary/train/blank/ZJ000426.jpg', 0),\n",
       " ('data_p1/data_binary/train/blank/ZJ000433.jpg', 0),\n",
       " ('data_p1/data_binary/train/blank/ZJ000434.jpg', 0),\n",
       " ('data_p1/data_binary/train/blank/ZJ000436.jpg', 0),\n",
       " ('data_p1/data_binary/train/blank/ZJ000441.jpg', 0),\n",
       " ('data_p1/data_binary/train/blank/ZJ000466.jpg', 0),\n",
       " ('data_p1/data_binary/train/blank/ZJ000469.jpg', 0),\n",
       " ('data_p1/data_binary/train/blank/ZJ000475.jpg', 0),\n",
       " ('data_p1/data_binary/train/blank/ZJ000477.jpg', 0),\n",
       " ('data_p1/data_binary/train/blank/ZJ000478.jpg', 0),\n",
       " ('data_p1/data_binary/train/blank/ZJ000480.jpg', 0),\n",
       " ('data_p1/data_binary/train/blank/ZJ000508.jpg', 0),\n",
       " ('data_p1/data_binary/train/blank/ZJ000509.jpg', 0),\n",
       " ('data_p1/data_binary/train/blank/ZJ000518.jpg', 0),\n",
       " ('data_p1/data_binary/train/blank/ZJ000541.jpg', 0),\n",
       " ('data_p1/data_binary/train/blank/ZJ000544.jpg', 0),\n",
       " ('data_p1/data_binary/train/blank/ZJ000553.jpg', 0),\n",
       " ('data_p1/data_binary/train/blank/ZJ000557.jpg', 0),\n",
       " ('data_p1/data_binary/train/blank/ZJ000560.jpg', 0),\n",
       " ('data_p1/data_binary/train/blank/ZJ000561.jpg', 0),\n",
       " ('data_p1/data_binary/train/blank/ZJ000564.jpg', 0),\n",
       " ('data_p1/data_binary/train/blank/ZJ000565.jpg', 0),\n",
       " ('data_p1/data_binary/train/blank/ZJ000573.jpg', 0),\n",
       " ('data_p1/data_binary/train/blank/ZJ000579.jpg', 0),\n",
       " ('data_p1/data_binary/train/blank/ZJ000586.jpg', 0),\n",
       " ('data_p1/data_binary/train/blank/ZJ000610.jpg', 0),\n",
       " ('data_p1/data_binary/train/blank/ZJ000611.jpg', 0),\n",
       " ('data_p1/data_binary/train/blank/ZJ000620.jpg', 0),\n",
       " ('data_p1/data_binary/train/blank/ZJ000621.jpg', 0),\n",
       " ('data_p1/data_binary/train/blank/ZJ000625.jpg', 0),\n",
       " ('data_p1/data_binary/train/blank/ZJ000626.jpg', 0),\n",
       " ('data_p1/data_binary/train/blank/ZJ000629.jpg', 0),\n",
       " ('data_p1/data_binary/train/blank/ZJ000634.jpg', 0),\n",
       " ('data_p1/data_binary/train/blank/ZJ000637.jpg', 0),\n",
       " ('data_p1/data_binary/train/blank/ZJ000638.jpg', 0),\n",
       " ('data_p1/data_binary/train/blank/ZJ000640.jpg', 0),\n",
       " ('data_p1/data_binary/train/blank/ZJ000651.jpg', 0),\n",
       " ('data_p1/data_binary/train/blank/ZJ000654.jpg', 0),\n",
       " ('data_p1/data_binary/train/blank/ZJ000663.jpg', 0),\n",
       " ('data_p1/data_binary/train/blank/ZJ000667.jpg', 0),\n",
       " ('data_p1/data_binary/train/blank/ZJ000676.jpg', 0),\n",
       " ('data_p1/data_binary/train/blank/ZJ000683.jpg', 0),\n",
       " ('data_p1/data_binary/train/blank/ZJ000688.jpg', 0),\n",
       " ('data_p1/data_binary/train/blank/ZJ000691.jpg', 0),\n",
       " ('data_p1/data_binary/train/blank/ZJ000695.jpg', 0),\n",
       " ('data_p1/data_binary/train/blank/ZJ000701.jpg', 0),\n",
       " ('data_p1/data_binary/train/blank/ZJ000704.jpg', 0),\n",
       " ('data_p1/data_binary/train/blank/ZJ000725.jpg', 0),\n",
       " ('data_p1/data_binary/train/blank/ZJ000729.jpg', 0),\n",
       " ('data_p1/data_binary/train/blank/ZJ000734.jpg', 0),\n",
       " ('data_p1/data_binary/train/blank/ZJ000737.jpg', 0),\n",
       " ('data_p1/data_binary/train/blank/ZJ000741.jpg', 0),\n",
       " ('data_p1/data_binary/train/blank/ZJ000756.jpg', 0),\n",
       " ('data_p1/data_binary/train/blank/ZJ000759.jpg', 0),\n",
       " ('data_p1/data_binary/train/blank/ZJ000774.jpg', 0),\n",
       " ('data_p1/data_binary/train/blank/ZJ000791.jpg', 0),\n",
       " ('data_p1/data_binary/train/blank/ZJ000796.jpg', 0),\n",
       " ('data_p1/data_binary/train/blank/ZJ000803.jpg', 0),\n",
       " ('data_p1/data_binary/train/blank/ZJ000807.jpg', 0),\n",
       " ('data_p1/data_binary/train/blank/ZJ000809.jpg', 0),\n",
       " ('data_p1/data_binary/train/blank/ZJ000818.jpg', 0),\n",
       " ('data_p1/data_binary/train/blank/ZJ000827.jpg', 0),\n",
       " ('data_p1/data_binary/train/blank/ZJ000831.jpg', 0),\n",
       " ('data_p1/data_binary/train/blank/ZJ000833.jpg', 0),\n",
       " ('data_p1/data_binary/train/blank/ZJ000838.jpg', 0),\n",
       " ('data_p1/data_binary/train/blank/ZJ000843.jpg', 0),\n",
       " ('data_p1/data_binary/train/blank/ZJ000847.jpg', 0),\n",
       " ('data_p1/data_binary/train/blank/ZJ000852.jpg', 0),\n",
       " ('data_p1/data_binary/train/blank/ZJ000857.jpg', 0),\n",
       " ('data_p1/data_binary/train/blank/ZJ000859.jpg', 0),\n",
       " ('data_p1/data_binary/train/blank/ZJ000864.jpg', 0),\n",
       " ('data_p1/data_binary/train/blank/ZJ000868.jpg', 0),\n",
       " ('data_p1/data_binary/train/blank/ZJ000870.jpg', 0),\n",
       " ('data_p1/data_binary/train/blank/ZJ000871.jpg', 0),\n",
       " ('data_p1/data_binary/train/blank/ZJ000873.jpg', 0),\n",
       " ('data_p1/data_binary/train/blank/ZJ000876.jpg', 0),\n",
       " ('data_p1/data_binary/train/blank/ZJ000883.jpg', 0),\n",
       " ('data_p1/data_binary/train/blank/ZJ000893.jpg', 0),\n",
       " ('data_p1/data_binary/train/blank/ZJ000902.jpg', 0),\n",
       " ('data_p1/data_binary/train/blank/ZJ000906.jpg', 0),\n",
       " ('data_p1/data_binary/train/blank/ZJ000907.jpg', 0),\n",
       " ('data_p1/data_binary/train/blank/ZJ000909.jpg', 0),\n",
       " ('data_p1/data_binary/train/blank/ZJ000928.jpg', 0),\n",
       " ('data_p1/data_binary/train/blank/ZJ000945.jpg', 0),\n",
       " ('data_p1/data_binary/train/blank/ZJ000946.jpg', 0),\n",
       " ('data_p1/data_binary/train/blank/ZJ000952.jpg', 0),\n",
       " ('data_p1/data_binary/train/blank/ZJ000953.jpg', 0),\n",
       " ('data_p1/data_binary/train/blank/ZJ000964.jpg', 0),\n",
       " ('data_p1/data_binary/train/blank/ZJ000971.jpg', 0),\n",
       " ('data_p1/data_binary/train/blank/ZJ000975.jpg', 0),\n",
       " ('data_p1/data_binary/train/blank/ZJ000988.jpg', 0),\n",
       " ('data_p1/data_binary/train/blank/ZJ001001.jpg', 0),\n",
       " ('data_p1/data_binary/train/blank/ZJ001004.jpg', 0),\n",
       " ('data_p1/data_binary/train/blank/ZJ001007.jpg', 0),\n",
       " ('data_p1/data_binary/train/blank/ZJ001018.jpg', 0),\n",
       " ('data_p1/data_binary/train/blank/ZJ001026.jpg', 0),\n",
       " ('data_p1/data_binary/train/blank/ZJ001030.jpg', 0),\n",
       " ('data_p1/data_binary/train/blank/ZJ001038.jpg', 0),\n",
       " ('data_p1/data_binary/train/blank/ZJ001068.jpg', 0),\n",
       " ('data_p1/data_binary/train/blank/ZJ001078.jpg', 0),\n",
       " ('data_p1/data_binary/train/blank/ZJ001080.jpg', 0),\n",
       " ('data_p1/data_binary/train/blank/ZJ001082.jpg', 0),\n",
       " ('data_p1/data_binary/train/blank/ZJ001088.jpg', 0),\n",
       " ('data_p1/data_binary/train/blank/ZJ001096.jpg', 0),\n",
       " ('data_p1/data_binary/train/blank/ZJ001097.jpg', 0),\n",
       " ('data_p1/data_binary/train/blank/ZJ001099.jpg', 0),\n",
       " ('data_p1/data_binary/train/blank/ZJ001139.jpg', 0),\n",
       " ('data_p1/data_binary/train/blank/ZJ001143.jpg', 0),\n",
       " ('data_p1/data_binary/train/blank/ZJ001152.jpg', 0),\n",
       " ('data_p1/data_binary/train/blank/ZJ001153.jpg', 0),\n",
       " ('data_p1/data_binary/train/blank/ZJ001167.jpg', 0),\n",
       " ('data_p1/data_binary/train/blank/ZJ001176.jpg', 0),\n",
       " ('data_p1/data_binary/train/blank/ZJ001184.jpg', 0),\n",
       " ('data_p1/data_binary/train/blank/ZJ001195.jpg', 0),\n",
       " ('data_p1/data_binary/train/blank/ZJ001201.jpg', 0),\n",
       " ('data_p1/data_binary/train/blank/ZJ001212.jpg', 0),\n",
       " ('data_p1/data_binary/train/blank/ZJ001248.jpg', 0),\n",
       " ('data_p1/data_binary/train/blank/ZJ001249.jpg', 0),\n",
       " ('data_p1/data_binary/train/blank/ZJ001250.jpg', 0),\n",
       " ('data_p1/data_binary/train/blank/ZJ001253.jpg', 0),\n",
       " ('data_p1/data_binary/train/blank/ZJ001267.jpg', 0),\n",
       " ('data_p1/data_binary/train/blank/ZJ001276.jpg', 0),\n",
       " ('data_p1/data_binary/train/blank/ZJ001281.jpg', 0),\n",
       " ('data_p1/data_binary/train/blank/ZJ001297.jpg', 0),\n",
       " ('data_p1/data_binary/train/blank/ZJ001301.jpg', 0),\n",
       " ('data_p1/data_binary/train/blank/ZJ001307.jpg', 0),\n",
       " ('data_p1/data_binary/train/blank/ZJ001309.jpg', 0),\n",
       " ('data_p1/data_binary/train/blank/ZJ001316.jpg', 0),\n",
       " ('data_p1/data_binary/train/blank/ZJ001317.jpg', 0),\n",
       " ('data_p1/data_binary/train/blank/ZJ001324.jpg', 0),\n",
       " ('data_p1/data_binary/train/blank/ZJ001358.jpg', 0),\n",
       " ('data_p1/data_binary/train/blank/ZJ001368.jpg', 0),\n",
       " ('data_p1/data_binary/train/blank/ZJ001375.jpg', 0),\n",
       " ('data_p1/data_binary/train/blank/ZJ001379.jpg', 0),\n",
       " ('data_p1/data_binary/train/blank/ZJ001388.jpg', 0),\n",
       " ('data_p1/data_binary/train/blank/ZJ001402.jpg', 0),\n",
       " ('data_p1/data_binary/train/blank/ZJ001407.jpg', 0),\n",
       " ('data_p1/data_binary/train/blank/ZJ001422.jpg', 0),\n",
       " ('data_p1/data_binary/train/blank/ZJ001424.jpg', 0),\n",
       " ('data_p1/data_binary/train/blank/ZJ001427.jpg', 0),\n",
       " ('data_p1/data_binary/train/blank/ZJ001432.jpg', 0),\n",
       " ('data_p1/data_binary/train/blank/ZJ001435.jpg', 0),\n",
       " ('data_p1/data_binary/train/blank/ZJ001448.jpg', 0),\n",
       " ('data_p1/data_binary/train/blank/ZJ001460.jpg', 0),\n",
       " ('data_p1/data_binary/train/blank/ZJ001462.jpg', 0),\n",
       " ('data_p1/data_binary/train/blank/ZJ001471.jpg', 0),\n",
       " ('data_p1/data_binary/train/blank/ZJ001476.jpg', 0),\n",
       " ('data_p1/data_binary/train/blank/ZJ001480.jpg', 0),\n",
       " ('data_p1/data_binary/train/blank/ZJ001481.jpg', 0),\n",
       " ('data_p1/data_binary/train/blank/ZJ001484.jpg', 0),\n",
       " ('data_p1/data_binary/train/blank/ZJ001495.jpg', 0),\n",
       " ('data_p1/data_binary/train/blank/ZJ001497.jpg', 0),\n",
       " ('data_p1/data_binary/train/blank/ZJ001501.jpg', 0),\n",
       " ('data_p1/data_binary/train/blank/ZJ001505.jpg', 0),\n",
       " ('data_p1/data_binary/train/blank/ZJ001513.jpg', 0),\n",
       " ('data_p1/data_binary/train/blank/ZJ001518.jpg', 0),\n",
       " ('data_p1/data_binary/train/blank/ZJ001543.jpg', 0),\n",
       " ('data_p1/data_binary/train/blank/ZJ001556.jpg', 0),\n",
       " ('data_p1/data_binary/train/blank/ZJ001585.jpg', 0),\n",
       " ('data_p1/data_binary/train/blank/ZJ001587.jpg', 0),\n",
       " ('data_p1/data_binary/train/blank/ZJ001605.jpg', 0),\n",
       " ('data_p1/data_binary/train/blank/ZJ001631.jpg', 0),\n",
       " ('data_p1/data_binary/train/blank/ZJ001644.jpg', 0),\n",
       " ('data_p1/data_binary/train/blank/ZJ001650.jpg', 0),\n",
       " ('data_p1/data_binary/train/blank/ZJ001654.jpg', 0),\n",
       " ('data_p1/data_binary/train/blank/ZJ001655.jpg', 0),\n",
       " ('data_p1/data_binary/train/blank/ZJ001656.jpg', 0),\n",
       " ('data_p1/data_binary/train/blank/ZJ001659.jpg', 0),\n",
       " ('data_p1/data_binary/train/blank/ZJ001664.jpg', 0),\n",
       " ('data_p1/data_binary/train/blank/ZJ001665.jpg', 0),\n",
       " ('data_p1/data_binary/train/blank/ZJ001684.jpg', 0),\n",
       " ('data_p1/data_binary/train/blank/ZJ001697.jpg', 0),\n",
       " ('data_p1/data_binary/train/blank/ZJ001708.jpg', 0),\n",
       " ('data_p1/data_binary/train/blank/ZJ001715.jpg', 0),\n",
       " ('data_p1/data_binary/train/blank/ZJ001749.jpg', 0),\n",
       " ('data_p1/data_binary/train/blank/ZJ001762.jpg', 0),\n",
       " ('data_p1/data_binary/train/blank/ZJ001765.jpg', 0),\n",
       " ('data_p1/data_binary/train/blank/ZJ001768.jpg', 0),\n",
       " ('data_p1/data_binary/train/blank/ZJ001778.jpg', 0),\n",
       " ('data_p1/data_binary/train/blank/ZJ001800.jpg', 0),\n",
       " ('data_p1/data_binary/train/blank/ZJ001815.jpg', 0),\n",
       " ('data_p1/data_binary/train/blank/ZJ001822.jpg', 0),\n",
       " ('data_p1/data_binary/train/blank/ZJ001827.jpg', 0),\n",
       " ('data_p1/data_binary/train/blank/ZJ001829.jpg', 0),\n",
       " ('data_p1/data_binary/train/blank/ZJ001841.jpg', 0),\n",
       " ('data_p1/data_binary/train/blank/ZJ001846.jpg', 0),\n",
       " ('data_p1/data_binary/train/blank/ZJ001850.jpg', 0),\n",
       " ('data_p1/data_binary/train/blank/ZJ001851.jpg', 0),\n",
       " ('data_p1/data_binary/train/blank/ZJ001878.jpg', 0),\n",
       " ('data_p1/data_binary/train/blank/ZJ001885.jpg', 0),\n",
       " ('data_p1/data_binary/train/blank/ZJ001891.jpg', 0),\n",
       " ('data_p1/data_binary/train/blank/ZJ001892.jpg', 0),\n",
       " ('data_p1/data_binary/train/blank/ZJ001894.jpg', 0),\n",
       " ('data_p1/data_binary/train/blank/ZJ001897.jpg', 0),\n",
       " ('data_p1/data_binary/train/blank/ZJ001901.jpg', 0),\n",
       " ('data_p1/data_binary/train/blank/ZJ001902.jpg', 0),\n",
       " ('data_p1/data_binary/train/blank/ZJ001905.jpg', 0),\n",
       " ('data_p1/data_binary/train/blank/ZJ001914.jpg', 0),\n",
       " ('data_p1/data_binary/train/blank/ZJ001915.jpg', 0),\n",
       " ('data_p1/data_binary/train/blank/ZJ001933.jpg', 0),\n",
       " ('data_p1/data_binary/train/blank/ZJ001954.jpg', 0),\n",
       " ('data_p1/data_binary/train/blank/ZJ001958.jpg', 0),\n",
       " ('data_p1/data_binary/train/blank/ZJ001963.jpg', 0),\n",
       " ('data_p1/data_binary/train/blank/ZJ001966.jpg', 0),\n",
       " ('data_p1/data_binary/train/blank/ZJ001975.jpg', 0),\n",
       " ('data_p1/data_binary/train/blank/ZJ001989.jpg', 0),\n",
       " ('data_p1/data_binary/train/blank/ZJ001996.jpg', 0),\n",
       " ('data_p1/data_binary/train/blank/ZJ002001.jpg', 0),\n",
       " ('data_p1/data_binary/train/blank/ZJ002004.jpg', 0),\n",
       " ('data_p1/data_binary/train/blank/ZJ002005.jpg', 0),\n",
       " ('data_p1/data_binary/train/blank/ZJ002034.jpg', 0),\n",
       " ('data_p1/data_binary/train/blank/ZJ002039.jpg', 0),\n",
       " ('data_p1/data_binary/train/blank/ZJ002044.jpg', 0),\n",
       " ('data_p1/data_binary/train/blank/ZJ002046.jpg', 0),\n",
       " ('data_p1/data_binary/train/blank/ZJ002049.jpg', 0),\n",
       " ('data_p1/data_binary/train/blank/ZJ002058.jpg', 0),\n",
       " ('data_p1/data_binary/train/blank/ZJ002067.jpg', 0),\n",
       " ('data_p1/data_binary/train/blank/ZJ002080.jpg', 0),\n",
       " ('data_p1/data_binary/train/blank/ZJ002084.jpg', 0),\n",
       " ('data_p1/data_binary/train/blank/ZJ002086.jpg', 0),\n",
       " ('data_p1/data_binary/train/blank/ZJ002094.jpg', 0),\n",
       " ('data_p1/data_binary/train/blank/ZJ002096.jpg', 0),\n",
       " ('data_p1/data_binary/train/blank/ZJ002098.jpg', 0),\n",
       " ('data_p1/data_binary/train/blank/ZJ002103.jpg', 0),\n",
       " ('data_p1/data_binary/train/blank/ZJ002104.jpg', 0),\n",
       " ('data_p1/data_binary/train/blank/ZJ002109.jpg', 0),\n",
       " ('data_p1/data_binary/train/blank/ZJ002110.jpg', 0),\n",
       " ('data_p1/data_binary/train/blank/ZJ002111.jpg', 0),\n",
       " ('data_p1/data_binary/train/blank/ZJ002126.jpg', 0),\n",
       " ('data_p1/data_binary/train/blank/ZJ002127.jpg', 0),\n",
       " ('data_p1/data_binary/train/blank/ZJ002129.jpg', 0),\n",
       " ('data_p1/data_binary/train/blank/ZJ002135.jpg', 0),\n",
       " ('data_p1/data_binary/train/blank/ZJ002136.jpg', 0),\n",
       " ('data_p1/data_binary/train/blank/ZJ002149.jpg', 0),\n",
       " ('data_p1/data_binary/train/blank/ZJ002162.jpg', 0),\n",
       " ('data_p1/data_binary/train/blank/ZJ002169.jpg', 0),\n",
       " ('data_p1/data_binary/train/blank/ZJ002176.jpg', 0),\n",
       " ('data_p1/data_binary/train/blank/ZJ002192.jpg', 0),\n",
       " ('data_p1/data_binary/train/blank/ZJ002193.jpg', 0),\n",
       " ('data_p1/data_binary/train/blank/ZJ002201.jpg', 0),\n",
       " ('data_p1/data_binary/train/blank/ZJ002213.jpg', 0),\n",
       " ('data_p1/data_binary/train/blank/ZJ002215.jpg', 0),\n",
       " ('data_p1/data_binary/train/blank/ZJ002218.jpg', 0),\n",
       " ('data_p1/data_binary/train/blank/ZJ002221.jpg', 0),\n",
       " ('data_p1/data_binary/train/blank/ZJ002222.jpg', 0),\n",
       " ('data_p1/data_binary/train/blank/ZJ002224.jpg', 0),\n",
       " ('data_p1/data_binary/train/blank/ZJ002226.jpg', 0),\n",
       " ('data_p1/data_binary/train/blank/ZJ002241.jpg', 0),\n",
       " ('data_p1/data_binary/train/blank/ZJ002250.jpg', 0),\n",
       " ('data_p1/data_binary/train/blank/ZJ002253.jpg', 0),\n",
       " ('data_p1/data_binary/train/blank/ZJ002262.jpg', 0),\n",
       " ('data_p1/data_binary/train/blank/ZJ002270.jpg', 0),\n",
       " ('data_p1/data_binary/train/blank/ZJ002282.jpg', 0),\n",
       " ('data_p1/data_binary/train/blank/ZJ002288.jpg', 0),\n",
       " ('data_p1/data_binary/train/blank/ZJ002307.jpg', 0),\n",
       " ('data_p1/data_binary/train/blank/ZJ002312.jpg', 0),\n",
       " ('data_p1/data_binary/train/blank/ZJ002315.jpg', 0),\n",
       " ('data_p1/data_binary/train/blank/ZJ002336.jpg', 0),\n",
       " ('data_p1/data_binary/train/blank/ZJ002346.jpg', 0),\n",
       " ('data_p1/data_binary/train/blank/ZJ002353.jpg', 0),\n",
       " ('data_p1/data_binary/train/blank/ZJ002358.jpg', 0),\n",
       " ('data_p1/data_binary/train/blank/ZJ002372.jpg', 0),\n",
       " ('data_p1/data_binary/train/blank/ZJ002388.jpg', 0),\n",
       " ('data_p1/data_binary/train/blank/ZJ002389.jpg', 0),\n",
       " ('data_p1/data_binary/train/blank/ZJ002409.jpg', 0),\n",
       " ('data_p1/data_binary/train/blank/ZJ002420.jpg', 0),\n",
       " ('data_p1/data_binary/train/blank/ZJ002435.jpg', 0),\n",
       " ('data_p1/data_binary/train/blank/ZJ002436.jpg', 0),\n",
       " ('data_p1/data_binary/train/blank/ZJ002446.jpg', 0),\n",
       " ('data_p1/data_binary/train/blank/ZJ002453.jpg', 0),\n",
       " ('data_p1/data_binary/train/blank/ZJ002460.jpg', 0),\n",
       " ('data_p1/data_binary/train/blank/ZJ002474.jpg', 0),\n",
       " ('data_p1/data_binary/train/blank/ZJ002475.jpg', 0),\n",
       " ('data_p1/data_binary/train/blank/ZJ002498.jpg', 0),\n",
       " ('data_p1/data_binary/train/blank/ZJ002504.jpg', 0),\n",
       " ('data_p1/data_binary/train/blank/ZJ002505.jpg', 0),\n",
       " ('data_p1/data_binary/train/blank/ZJ002513.jpg', 0),\n",
       " ('data_p1/data_binary/train/blank/ZJ002518.jpg', 0),\n",
       " ('data_p1/data_binary/train/blank/ZJ002524.jpg', 0),\n",
       " ('data_p1/data_binary/train/blank/ZJ002531.jpg', 0),\n",
       " ('data_p1/data_binary/train/blank/ZJ002537.jpg', 0),\n",
       " ('data_p1/data_binary/train/blank/ZJ002550.jpg', 0),\n",
       " ('data_p1/data_binary/train/blank/ZJ002551.jpg', 0),\n",
       " ('data_p1/data_binary/train/blank/ZJ002554.jpg', 0),\n",
       " ('data_p1/data_binary/train/blank/ZJ002557.jpg', 0),\n",
       " ('data_p1/data_binary/train/blank/ZJ002562.jpg', 0),\n",
       " ('data_p1/data_binary/train/blank/ZJ002570.jpg', 0),\n",
       " ('data_p1/data_binary/train/blank/ZJ002573.jpg', 0),\n",
       " ('data_p1/data_binary/train/blank/ZJ002591.jpg', 0),\n",
       " ('data_p1/data_binary/train/blank/ZJ002598.jpg', 0),\n",
       " ('data_p1/data_binary/train/blank/ZJ002600.jpg', 0),\n",
       " ('data_p1/data_binary/train/blank/ZJ002622.jpg', 0),\n",
       " ('data_p1/data_binary/train/blank/ZJ002623.jpg', 0),\n",
       " ('data_p1/data_binary/train/blank/ZJ002642.jpg', 0),\n",
       " ('data_p1/data_binary/train/blank/ZJ002661.jpg', 0),\n",
       " ('data_p1/data_binary/train/blank/ZJ002668.jpg', 0),\n",
       " ('data_p1/data_binary/train/blank/ZJ002683.jpg', 0),\n",
       " ('data_p1/data_binary/train/blank/ZJ002684.jpg', 0),\n",
       " ('data_p1/data_binary/train/blank/ZJ002690.jpg', 0),\n",
       " ('data_p1/data_binary/train/blank/ZJ002692.jpg', 0),\n",
       " ('data_p1/data_binary/train/blank/ZJ002694.jpg', 0),\n",
       " ('data_p1/data_binary/train/blank/ZJ002695.jpg', 0),\n",
       " ('data_p1/data_binary/train/blank/ZJ002697.jpg', 0),\n",
       " ('data_p1/data_binary/train/blank/ZJ002699.jpg', 0),\n",
       " ('data_p1/data_binary/train/blank/ZJ002701.jpg', 0),\n",
       " ('data_p1/data_binary/train/blank/ZJ002712.jpg', 0),\n",
       " ('data_p1/data_binary/train/blank/ZJ002717.jpg', 0),\n",
       " ('data_p1/data_binary/train/blank/ZJ002721.jpg', 0),\n",
       " ('data_p1/data_binary/train/blank/ZJ002726.jpg', 0),\n",
       " ('data_p1/data_binary/train/blank/ZJ002731.jpg', 0),\n",
       " ('data_p1/data_binary/train/blank/ZJ002741.jpg', 0),\n",
       " ('data_p1/data_binary/train/blank/ZJ002742.jpg', 0),\n",
       " ('data_p1/data_binary/train/blank/ZJ002743.jpg', 0),\n",
       " ('data_p1/data_binary/train/blank/ZJ002751.jpg', 0),\n",
       " ('data_p1/data_binary/train/blank/ZJ002774.jpg', 0),\n",
       " ('data_p1/data_binary/train/blank/ZJ002776.jpg', 0),\n",
       " ('data_p1/data_binary/train/blank/ZJ002783.jpg', 0),\n",
       " ('data_p1/data_binary/train/blank/ZJ002786.jpg', 0),\n",
       " ('data_p1/data_binary/train/blank/ZJ002795.jpg', 0),\n",
       " ('data_p1/data_binary/train/blank/ZJ002797.jpg', 0),\n",
       " ('data_p1/data_binary/train/blank/ZJ002802.jpg', 0),\n",
       " ('data_p1/data_binary/train/blank/ZJ002803.jpg', 0),\n",
       " ('data_p1/data_binary/train/blank/ZJ002807.jpg', 0),\n",
       " ('data_p1/data_binary/train/blank/ZJ002812.jpg', 0),\n",
       " ('data_p1/data_binary/train/blank/ZJ002823.jpg', 0),\n",
       " ('data_p1/data_binary/train/blank/ZJ002828.jpg', 0),\n",
       " ('data_p1/data_binary/train/blank/ZJ002829.jpg', 0),\n",
       " ('data_p1/data_binary/train/blank/ZJ002830.jpg', 0),\n",
       " ('data_p1/data_binary/train/blank/ZJ002831.jpg', 0),\n",
       " ('data_p1/data_binary/train/blank/ZJ002833.jpg', 0),\n",
       " ('data_p1/data_binary/train/blank/ZJ002836.jpg', 0),\n",
       " ('data_p1/data_binary/train/blank/ZJ002838.jpg', 0),\n",
       " ('data_p1/data_binary/train/blank/ZJ002842.jpg', 0),\n",
       " ('data_p1/data_binary/train/blank/ZJ002850.jpg', 0),\n",
       " ('data_p1/data_binary/train/blank/ZJ002868.jpg', 0),\n",
       " ('data_p1/data_binary/train/blank/ZJ002872.jpg', 0),\n",
       " ('data_p1/data_binary/train/blank/ZJ002877.jpg', 0),\n",
       " ('data_p1/data_binary/train/blank/ZJ002879.jpg', 0),\n",
       " ('data_p1/data_binary/train/blank/ZJ002902.jpg', 0),\n",
       " ('data_p1/data_binary/train/blank/ZJ002917.jpg', 0),\n",
       " ('data_p1/data_binary/train/blank/ZJ002922.jpg', 0),\n",
       " ('data_p1/data_binary/train/blank/ZJ002926.jpg', 0),\n",
       " ('data_p1/data_binary/train/blank/ZJ002927.jpg', 0),\n",
       " ('data_p1/data_binary/train/blank/ZJ002930.jpg', 0),\n",
       " ('data_p1/data_binary/train/blank/ZJ002934.jpg', 0),\n",
       " ('data_p1/data_binary/train/blank/ZJ002941.jpg', 0),\n",
       " ('data_p1/data_binary/train/blank/ZJ002949.jpg', 0),\n",
       " ('data_p1/data_binary/train/blank/ZJ002967.jpg', 0),\n",
       " ('data_p1/data_binary/train/blank/ZJ002971.jpg', 0),\n",
       " ('data_p1/data_binary/train/blank/ZJ002976.jpg', 0),\n",
       " ('data_p1/data_binary/train/blank/ZJ002980.jpg', 0),\n",
       " ('data_p1/data_binary/train/blank/ZJ002987.jpg', 0),\n",
       " ('data_p1/data_binary/train/blank/ZJ003003.jpg', 0),\n",
       " ('data_p1/data_binary/train/blank/ZJ003012.jpg', 0),\n",
       " ('data_p1/data_binary/train/blank/ZJ003019.jpg', 0),\n",
       " ('data_p1/data_binary/train/blank/ZJ003021.jpg', 0),\n",
       " ('data_p1/data_binary/train/blank/ZJ003023.jpg', 0),\n",
       " ('data_p1/data_binary/train/blank/ZJ003027.jpg', 0),\n",
       " ('data_p1/data_binary/train/blank/ZJ003030.jpg', 0),\n",
       " ('data_p1/data_binary/train/blank/ZJ003038.jpg', 0),\n",
       " ('data_p1/data_binary/train/blank/ZJ003040.jpg', 0),\n",
       " ('data_p1/data_binary/train/blank/ZJ003048.jpg', 0),\n",
       " ('data_p1/data_binary/train/blank/ZJ003053.jpg', 0),\n",
       " ('data_p1/data_binary/train/blank/ZJ003056.jpg', 0),\n",
       " ('data_p1/data_binary/train/blank/ZJ003092.jpg', 0),\n",
       " ('data_p1/data_binary/train/blank/ZJ003096.jpg', 0),\n",
       " ('data_p1/data_binary/train/blank/ZJ003113.jpg', 0),\n",
       " ('data_p1/data_binary/train/blank/ZJ003115.jpg', 0),\n",
       " ('data_p1/data_binary/train/blank/ZJ003116.jpg', 0),\n",
       " ('data_p1/data_binary/train/blank/ZJ003119.jpg', 0),\n",
       " ('data_p1/data_binary/train/blank/ZJ003124.jpg', 0),\n",
       " ('data_p1/data_binary/train/blank/ZJ003125.jpg', 0),\n",
       " ('data_p1/data_binary/train/blank/ZJ003131.jpg', 0),\n",
       " ('data_p1/data_binary/train/blank/ZJ003139.jpg', 0),\n",
       " ('data_p1/data_binary/train/blank/ZJ003148.jpg', 0),\n",
       " ('data_p1/data_binary/train/blank/ZJ003149.jpg', 0),\n",
       " ('data_p1/data_binary/train/blank/ZJ003158.jpg', 0),\n",
       " ('data_p1/data_binary/train/blank/ZJ003160.jpg', 0),\n",
       " ('data_p1/data_binary/train/blank/ZJ003161.jpg', 0),\n",
       " ('data_p1/data_binary/train/blank/ZJ003177.jpg', 0),\n",
       " ('data_p1/data_binary/train/blank/ZJ003188.jpg', 0),\n",
       " ('data_p1/data_binary/train/blank/ZJ003191.jpg', 0),\n",
       " ('data_p1/data_binary/train/blank/ZJ003193.jpg', 0),\n",
       " ('data_p1/data_binary/train/blank/ZJ003196.jpg', 0),\n",
       " ('data_p1/data_binary/train/blank/ZJ003211.jpg', 0),\n",
       " ('data_p1/data_binary/train/blank/ZJ003212.jpg', 0),\n",
       " ('data_p1/data_binary/train/blank/ZJ003214.jpg', 0),\n",
       " ('data_p1/data_binary/train/blank/ZJ003222.jpg', 0),\n",
       " ('data_p1/data_binary/train/blank/ZJ003231.jpg', 0),\n",
       " ('data_p1/data_binary/train/blank/ZJ003244.jpg', 0),\n",
       " ('data_p1/data_binary/train/blank/ZJ003251.jpg', 0),\n",
       " ('data_p1/data_binary/train/blank/ZJ003255.jpg', 0),\n",
       " ('data_p1/data_binary/train/blank/ZJ003260.jpg', 0),\n",
       " ('data_p1/data_binary/train/blank/ZJ003266.jpg', 0),\n",
       " ('data_p1/data_binary/train/blank/ZJ003268.jpg', 0),\n",
       " ('data_p1/data_binary/train/blank/ZJ003277.jpg', 0),\n",
       " ('data_p1/data_binary/train/blank/ZJ003294.jpg', 0),\n",
       " ('data_p1/data_binary/train/blank/ZJ003298.jpg', 0),\n",
       " ('data_p1/data_binary/train/blank/ZJ003299.jpg', 0),\n",
       " ('data_p1/data_binary/train/blank/ZJ003303.jpg', 0),\n",
       " ('data_p1/data_binary/train/blank/ZJ003317.jpg', 0),\n",
       " ('data_p1/data_binary/train/blank/ZJ003319.jpg', 0),\n",
       " ('data_p1/data_binary/train/blank/ZJ003332.jpg', 0),\n",
       " ('data_p1/data_binary/train/blank/ZJ003339.jpg', 0),\n",
       " ('data_p1/data_binary/train/blank/ZJ003347.jpg', 0),\n",
       " ('data_p1/data_binary/train/blank/ZJ003348.jpg', 0),\n",
       " ('data_p1/data_binary/train/blank/ZJ003354.jpg', 0),\n",
       " ('data_p1/data_binary/train/blank/ZJ003355.jpg', 0),\n",
       " ('data_p1/data_binary/train/blank/ZJ003357.jpg', 0),\n",
       " ('data_p1/data_binary/train/blank/ZJ003367.jpg', 0),\n",
       " ('data_p1/data_binary/train/blank/ZJ003373.jpg', 0),\n",
       " ('data_p1/data_binary/train/blank/ZJ003388.jpg', 0),\n",
       " ('data_p1/data_binary/train/blank/ZJ003389.jpg', 0),\n",
       " ('data_p1/data_binary/train/blank/ZJ003397.jpg', 0),\n",
       " ('data_p1/data_binary/train/blank/ZJ003401.jpg', 0),\n",
       " ('data_p1/data_binary/train/blank/ZJ003403.jpg', 0),\n",
       " ('data_p1/data_binary/train/blank/ZJ003418.jpg', 0),\n",
       " ('data_p1/data_binary/train/blank/ZJ003435.jpg', 0),\n",
       " ('data_p1/data_binary/train/blank/ZJ003444.jpg', 0),\n",
       " ('data_p1/data_binary/train/blank/ZJ003457.jpg', 0),\n",
       " ('data_p1/data_binary/train/blank/ZJ003463.jpg', 0),\n",
       " ('data_p1/data_binary/train/blank/ZJ003467.jpg', 0),\n",
       " ('data_p1/data_binary/train/blank/ZJ003480.jpg', 0),\n",
       " ('data_p1/data_binary/train/blank/ZJ003481.jpg', 0),\n",
       " ('data_p1/data_binary/train/blank/ZJ003485.jpg', 0),\n",
       " ('data_p1/data_binary/train/blank/ZJ003490.jpg', 0),\n",
       " ('data_p1/data_binary/train/blank/ZJ003499.jpg', 0),\n",
       " ('data_p1/data_binary/train/blank/ZJ003501.jpg', 0),\n",
       " ('data_p1/data_binary/train/blank/ZJ003503.jpg', 0),\n",
       " ('data_p1/data_binary/train/blank/ZJ003505.jpg', 0),\n",
       " ('data_p1/data_binary/train/blank/ZJ003507.jpg', 0),\n",
       " ('data_p1/data_binary/train/blank/ZJ003508.jpg', 0),\n",
       " ('data_p1/data_binary/train/blank/ZJ003511.jpg', 0),\n",
       " ('data_p1/data_binary/train/blank/ZJ003536.jpg', 0),\n",
       " ('data_p1/data_binary/train/blank/ZJ003538.jpg', 0),\n",
       " ('data_p1/data_binary/train/blank/ZJ003546.jpg', 0),\n",
       " ('data_p1/data_binary/train/blank/ZJ003550.jpg', 0),\n",
       " ('data_p1/data_binary/train/blank/ZJ003575.jpg', 0),\n",
       " ('data_p1/data_binary/train/blank/ZJ003576.jpg', 0),\n",
       " ('data_p1/data_binary/train/blank/ZJ003578.jpg', 0),\n",
       " ('data_p1/data_binary/train/blank/ZJ003598.jpg', 0),\n",
       " ('data_p1/data_binary/train/blank/ZJ003608.jpg', 0),\n",
       " ('data_p1/data_binary/train/blank/ZJ003612.jpg', 0),\n",
       " ('data_p1/data_binary/train/blank/ZJ003630.jpg', 0),\n",
       " ('data_p1/data_binary/train/blank/ZJ003636.jpg', 0),\n",
       " ('data_p1/data_binary/train/blank/ZJ003645.jpg', 0),\n",
       " ('data_p1/data_binary/train/blank/ZJ003652.jpg', 0),\n",
       " ('data_p1/data_binary/train/blank/ZJ003654.jpg', 0),\n",
       " ('data_p1/data_binary/train/blank/ZJ003655.jpg', 0),\n",
       " ('data_p1/data_binary/train/blank/ZJ003676.jpg', 0),\n",
       " ('data_p1/data_binary/train/blank/ZJ003680.jpg', 0),\n",
       " ('data_p1/data_binary/train/blank/ZJ003683.jpg', 0),\n",
       " ('data_p1/data_binary/train/blank/ZJ003689.jpg', 0),\n",
       " ('data_p1/data_binary/train/blank/ZJ003691.jpg', 0),\n",
       " ('data_p1/data_binary/train/blank/ZJ003695.jpg', 0),\n",
       " ('data_p1/data_binary/train/blank/ZJ003710.jpg', 0),\n",
       " ('data_p1/data_binary/train/blank/ZJ003716.jpg', 0),\n",
       " ('data_p1/data_binary/train/blank/ZJ003725.jpg', 0),\n",
       " ('data_p1/data_binary/train/blank/ZJ003729.jpg', 0),\n",
       " ('data_p1/data_binary/train/blank/ZJ003732.jpg', 0),\n",
       " ('data_p1/data_binary/train/blank/ZJ003734.jpg', 0),\n",
       " ('data_p1/data_binary/train/blank/ZJ003745.jpg', 0),\n",
       " ('data_p1/data_binary/train/blank/ZJ003795.jpg', 0),\n",
       " ('data_p1/data_binary/train/blank/ZJ003796.jpg', 0),\n",
       " ('data_p1/data_binary/train/blank/ZJ003803.jpg', 0),\n",
       " ('data_p1/data_binary/train/blank/ZJ003808.jpg', 0),\n",
       " ('data_p1/data_binary/train/blank/ZJ003814.jpg', 0),\n",
       " ('data_p1/data_binary/train/blank/ZJ003817.jpg', 0),\n",
       " ('data_p1/data_binary/train/blank/ZJ003825.jpg', 0),\n",
       " ('data_p1/data_binary/train/blank/ZJ003828.jpg', 0),\n",
       " ('data_p1/data_binary/train/blank/ZJ003833.jpg', 0),\n",
       " ('data_p1/data_binary/train/blank/ZJ003835.jpg', 0),\n",
       " ('data_p1/data_binary/train/blank/ZJ003843.jpg', 0),\n",
       " ('data_p1/data_binary/train/blank/ZJ003845.jpg', 0),\n",
       " ('data_p1/data_binary/train/blank/ZJ003855.jpg', 0),\n",
       " ('data_p1/data_binary/train/blank/ZJ003864.jpg', 0),\n",
       " ('data_p1/data_binary/train/blank/ZJ003867.jpg', 0),\n",
       " ('data_p1/data_binary/train/blank/ZJ003870.jpg', 0),\n",
       " ('data_p1/data_binary/train/blank/ZJ003879.jpg', 0),\n",
       " ('data_p1/data_binary/train/blank/ZJ003885.jpg', 0),\n",
       " ('data_p1/data_binary/train/blank/ZJ003887.jpg', 0),\n",
       " ('data_p1/data_binary/train/blank/ZJ003892.jpg', 0),\n",
       " ('data_p1/data_binary/train/blank/ZJ003903.jpg', 0),\n",
       " ('data_p1/data_binary/train/blank/ZJ003905.jpg', 0),\n",
       " ('data_p1/data_binary/train/blank/ZJ003908.jpg', 0),\n",
       " ('data_p1/data_binary/train/blank/ZJ003921.jpg', 0),\n",
       " ('data_p1/data_binary/train/blank/ZJ003922.jpg', 0),\n",
       " ('data_p1/data_binary/train/blank/ZJ003928.jpg', 0),\n",
       " ('data_p1/data_binary/train/blank/ZJ003940.jpg', 0),\n",
       " ('data_p1/data_binary/train/blank/ZJ003946.jpg', 0),\n",
       " ('data_p1/data_binary/train/blank/ZJ003948.jpg', 0),\n",
       " ('data_p1/data_binary/train/blank/ZJ003951.jpg', 0),\n",
       " ('data_p1/data_binary/train/blank/ZJ003955.jpg', 0),\n",
       " ('data_p1/data_binary/train/blank/ZJ003968.jpg', 0),\n",
       " ('data_p1/data_binary/train/blank/ZJ003982.jpg', 0),\n",
       " ('data_p1/data_binary/train/blank/ZJ003993.jpg', 0),\n",
       " ('data_p1/data_binary/train/blank/ZJ003994.jpg', 0),\n",
       " ('data_p1/data_binary/train/blank/ZJ003995.jpg', 0),\n",
       " ('data_p1/data_binary/train/blank/ZJ004006.jpg', 0),\n",
       " ('data_p1/data_binary/train/blank/ZJ004020.jpg', 0),\n",
       " ('data_p1/data_binary/train/blank/ZJ004027.jpg', 0),\n",
       " ('data_p1/data_binary/train/blank/ZJ004069.jpg', 0),\n",
       " ('data_p1/data_binary/train/blank/ZJ004070.jpg', 0),\n",
       " ('data_p1/data_binary/train/blank/ZJ004071.jpg', 0),\n",
       " ('data_p1/data_binary/train/blank/ZJ004074.jpg', 0),\n",
       " ('data_p1/data_binary/train/blank/ZJ004083.jpg', 0),\n",
       " ('data_p1/data_binary/train/blank/ZJ004096.jpg', 0),\n",
       " ('data_p1/data_binary/train/blank/ZJ004099.jpg', 0),\n",
       " ('data_p1/data_binary/train/blank/ZJ004104.jpg', 0),\n",
       " ('data_p1/data_binary/train/blank/ZJ004106.jpg', 0),\n",
       " ('data_p1/data_binary/train/blank/ZJ004114.jpg', 0),\n",
       " ('data_p1/data_binary/train/blank/ZJ004116.jpg', 0),\n",
       " ('data_p1/data_binary/train/blank/ZJ004130.jpg', 0),\n",
       " ('data_p1/data_binary/train/blank/ZJ004134.jpg', 0),\n",
       " ('data_p1/data_binary/train/blank/ZJ004139.jpg', 0),\n",
       " ('data_p1/data_binary/train/blank/ZJ004159.jpg', 0),\n",
       " ('data_p1/data_binary/train/blank/ZJ004160.jpg', 0),\n",
       " ('data_p1/data_binary/train/blank/ZJ004169.jpg', 0),\n",
       " ('data_p1/data_binary/train/blank/ZJ004185.jpg', 0),\n",
       " ('data_p1/data_binary/train/blank/ZJ004186.jpg', 0),\n",
       " ('data_p1/data_binary/train/blank/ZJ004217.jpg', 0),\n",
       " ('data_p1/data_binary/train/blank/ZJ004220.jpg', 0),\n",
       " ('data_p1/data_binary/train/blank/ZJ004221.jpg', 0),\n",
       " ('data_p1/data_binary/train/blank/ZJ004224.jpg', 0),\n",
       " ('data_p1/data_binary/train/blank/ZJ004230.jpg', 0),\n",
       " ('data_p1/data_binary/train/blank/ZJ004233.jpg', 0),\n",
       " ('data_p1/data_binary/train/blank/ZJ004247.jpg', 0),\n",
       " ('data_p1/data_binary/train/blank/ZJ004248.jpg', 0),\n",
       " ('data_p1/data_binary/train/blank/ZJ004250.jpg', 0),\n",
       " ('data_p1/data_binary/train/blank/ZJ004252.jpg', 0),\n",
       " ('data_p1/data_binary/train/blank/ZJ004260.jpg', 0),\n",
       " ('data_p1/data_binary/train/blank/ZJ004262.jpg', 0),\n",
       " ('data_p1/data_binary/train/blank/ZJ004264.jpg', 0),\n",
       " ('data_p1/data_binary/train/blank/ZJ004267.jpg', 0),\n",
       " ('data_p1/data_binary/train/blank/ZJ004273.jpg', 0),\n",
       " ('data_p1/data_binary/train/blank/ZJ004281.jpg', 0),\n",
       " ('data_p1/data_binary/train/blank/ZJ004287.jpg', 0),\n",
       " ('data_p1/data_binary/train/blank/ZJ004299.jpg', 0),\n",
       " ('data_p1/data_binary/train/blank/ZJ004305.jpg', 0),\n",
       " ('data_p1/data_binary/train/blank/ZJ004306.jpg', 0),\n",
       " ('data_p1/data_binary/train/blank/ZJ004311.jpg', 0),\n",
       " ('data_p1/data_binary/train/blank/ZJ004313.jpg', 0),\n",
       " ('data_p1/data_binary/train/blank/ZJ004325.jpg', 0),\n",
       " ('data_p1/data_binary/train/blank/ZJ004327.jpg', 0),\n",
       " ('data_p1/data_binary/train/blank/ZJ004339.jpg', 0),\n",
       " ('data_p1/data_binary/train/blank/ZJ004348.jpg', 0),\n",
       " ('data_p1/data_binary/train/blank/ZJ004351.jpg', 0),\n",
       " ('data_p1/data_binary/train/blank/ZJ004353.jpg', 0),\n",
       " ('data_p1/data_binary/train/blank/ZJ004355.jpg', 0),\n",
       " ('data_p1/data_binary/train/blank/ZJ004368.jpg', 0),\n",
       " ('data_p1/data_binary/train/blank/ZJ004375.jpg', 0),\n",
       " ('data_p1/data_binary/train/blank/ZJ004380.jpg', 0),\n",
       " ('data_p1/data_binary/train/blank/ZJ004381.jpg', 0),\n",
       " ('data_p1/data_binary/train/blank/ZJ004384.jpg', 0),\n",
       " ('data_p1/data_binary/train/blank/ZJ004390.jpg', 0),\n",
       " ('data_p1/data_binary/train/blank/ZJ004401.jpg', 0),\n",
       " ('data_p1/data_binary/train/blank/ZJ004405.jpg', 0),\n",
       " ('data_p1/data_binary/train/blank/ZJ004410.jpg', 0),\n",
       " ('data_p1/data_binary/train/blank/ZJ004433.jpg', 0),\n",
       " ('data_p1/data_binary/train/blank/ZJ004443.jpg', 0),\n",
       " ('data_p1/data_binary/train/blank/ZJ004452.jpg', 0),\n",
       " ('data_p1/data_binary/train/blank/ZJ004456.jpg', 0),\n",
       " ('data_p1/data_binary/train/blank/ZJ004460.jpg', 0),\n",
       " ('data_p1/data_binary/train/blank/ZJ004466.jpg', 0),\n",
       " ('data_p1/data_binary/train/blank/ZJ004473.jpg', 0),\n",
       " ('data_p1/data_binary/train/blank/ZJ004480.jpg', 0),\n",
       " ('data_p1/data_binary/train/blank/ZJ004502.jpg', 0),\n",
       " ('data_p1/data_binary/train/blank/ZJ004504.jpg', 0),\n",
       " ('data_p1/data_binary/train/blank/ZJ004507.jpg', 0),\n",
       " ('data_p1/data_binary/train/blank/ZJ004512.jpg', 0),\n",
       " ('data_p1/data_binary/train/blank/ZJ004526.jpg', 0),\n",
       " ('data_p1/data_binary/train/blank/ZJ004535.jpg', 0),\n",
       " ('data_p1/data_binary/train/blank/ZJ004545.jpg', 0),\n",
       " ('data_p1/data_binary/train/blank/ZJ004555.jpg', 0),\n",
       " ('data_p1/data_binary/train/blank/ZJ004561.jpg', 0),\n",
       " ('data_p1/data_binary/train/blank/ZJ004564.jpg', 0),\n",
       " ('data_p1/data_binary/train/blank/ZJ004568.jpg', 0),\n",
       " ('data_p1/data_binary/train/blank/ZJ004569.jpg', 0),\n",
       " ('data_p1/data_binary/train/blank/ZJ004574.jpg', 0),\n",
       " ('data_p1/data_binary/train/blank/ZJ004582.jpg', 0),\n",
       " ('data_p1/data_binary/train/blank/ZJ004586.jpg', 0),\n",
       " ('data_p1/data_binary/train/blank/ZJ004597.jpg', 0),\n",
       " ('data_p1/data_binary/train/blank/ZJ004612.jpg', 0),\n",
       " ('data_p1/data_binary/train/blank/ZJ004621.jpg', 0),\n",
       " ('data_p1/data_binary/train/blank/ZJ004628.jpg', 0),\n",
       " ('data_p1/data_binary/train/blank/ZJ004635.jpg', 0),\n",
       " ('data_p1/data_binary/train/blank/ZJ004652.jpg', 0),\n",
       " ('data_p1/data_binary/train/blank/ZJ004653.jpg', 0),\n",
       " ('data_p1/data_binary/train/blank/ZJ004656.jpg', 0),\n",
       " ('data_p1/data_binary/train/blank/ZJ004678.jpg', 0),\n",
       " ('data_p1/data_binary/train/blank/ZJ004679.jpg', 0),\n",
       " ('data_p1/data_binary/train/blank/ZJ004693.jpg', 0),\n",
       " ('data_p1/data_binary/train/blank/ZJ004694.jpg', 0),\n",
       " ('data_p1/data_binary/train/blank/ZJ004715.jpg', 0),\n",
       " ('data_p1/data_binary/train/blank/ZJ004726.jpg', 0),\n",
       " ('data_p1/data_binary/train/blank/ZJ004734.jpg', 0),\n",
       " ('data_p1/data_binary/train/blank/ZJ004739.jpg', 0),\n",
       " ('data_p1/data_binary/train/blank/ZJ004744.jpg', 0),\n",
       " ('data_p1/data_binary/train/blank/ZJ004746.jpg', 0),\n",
       " ('data_p1/data_binary/train/blank/ZJ004762.jpg', 0),\n",
       " ('data_p1/data_binary/train/blank/ZJ004763.jpg', 0),\n",
       " ('data_p1/data_binary/train/blank/ZJ004767.jpg', 0),\n",
       " ('data_p1/data_binary/train/blank/ZJ004768.jpg', 0),\n",
       " ('data_p1/data_binary/train/blank/ZJ004769.jpg', 0),\n",
       " ('data_p1/data_binary/train/blank/ZJ004772.jpg', 0),\n",
       " ('data_p1/data_binary/train/blank/ZJ004775.jpg', 0),\n",
       " ('data_p1/data_binary/train/blank/ZJ004783.jpg', 0),\n",
       " ('data_p1/data_binary/train/blank/ZJ004790.jpg', 0),\n",
       " ('data_p1/data_binary/train/blank/ZJ004796.jpg', 0),\n",
       " ('data_p1/data_binary/train/blank/ZJ004804.jpg', 0),\n",
       " ('data_p1/data_binary/train/blank/ZJ004820.jpg', 0),\n",
       " ('data_p1/data_binary/train/blank/ZJ004837.jpg', 0),\n",
       " ('data_p1/data_binary/train/blank/ZJ004844.jpg', 0),\n",
       " ('data_p1/data_binary/train/blank/ZJ004846.jpg', 0),\n",
       " ('data_p1/data_binary/train/blank/ZJ004848.jpg', 0),\n",
       " ('data_p1/data_binary/train/blank/ZJ004849.jpg', 0),\n",
       " ('data_p1/data_binary/train/blank/ZJ004850.jpg', 0),\n",
       " ('data_p1/data_binary/train/blank/ZJ004872.jpg', 0),\n",
       " ('data_p1/data_binary/train/blank/ZJ004880.jpg', 0),\n",
       " ('data_p1/data_binary/train/blank/ZJ004882.jpg', 0),\n",
       " ('data_p1/data_binary/train/blank/ZJ004884.jpg', 0),\n",
       " ('data_p1/data_binary/train/blank/ZJ004887.jpg', 0),\n",
       " ('data_p1/data_binary/train/blank/ZJ004892.jpg', 0),\n",
       " ('data_p1/data_binary/train/blank/ZJ004894.jpg', 0),\n",
       " ('data_p1/data_binary/train/blank/ZJ004898.jpg', 0),\n",
       " ('data_p1/data_binary/train/blank/ZJ004901.jpg', 0),\n",
       " ('data_p1/data_binary/train/blank/ZJ004905.jpg', 0),\n",
       " ('data_p1/data_binary/train/blank/ZJ004915.jpg', 0),\n",
       " ('data_p1/data_binary/train/blank/ZJ004922.jpg', 0),\n",
       " ('data_p1/data_binary/train/blank/ZJ004929.jpg', 0),\n",
       " ('data_p1/data_binary/train/blank/ZJ004932.jpg', 0),\n",
       " ('data_p1/data_binary/train/blank/ZJ004941.jpg', 0),\n",
       " ('data_p1/data_binary/train/blank/ZJ004955.jpg', 0),\n",
       " ('data_p1/data_binary/train/blank/ZJ004958.jpg', 0),\n",
       " ('data_p1/data_binary/train/blank/ZJ004959.jpg', 0),\n",
       " ('data_p1/data_binary/train/blank/ZJ004983.jpg', 0),\n",
       " ('data_p1/data_binary/train/blank/ZJ004984.jpg', 0),\n",
       " ('data_p1/data_binary/train/blank/ZJ004991.jpg', 0),\n",
       " ('data_p1/data_binary/train/blank/ZJ004999.jpg', 0),\n",
       " ('data_p1/data_binary/train/blank/ZJ005014.jpg', 0),\n",
       " ('data_p1/data_binary/train/blank/ZJ005017.jpg', 0),\n",
       " ('data_p1/data_binary/train/blank/ZJ005022.jpg', 0),\n",
       " ('data_p1/data_binary/train/blank/ZJ005036.jpg', 0),\n",
       " ('data_p1/data_binary/train/blank/ZJ005039.jpg', 0),\n",
       " ('data_p1/data_binary/train/blank/ZJ005051.jpg', 0),\n",
       " ('data_p1/data_binary/train/blank/ZJ005074.jpg', 0),\n",
       " ('data_p1/data_binary/train/blank/ZJ005079.jpg', 0),\n",
       " ('data_p1/data_binary/train/blank/ZJ005080.jpg', 0),\n",
       " ('data_p1/data_binary/train/blank/ZJ005093.jpg', 0),\n",
       " ('data_p1/data_binary/train/blank/ZJ005094.jpg', 0),\n",
       " ('data_p1/data_binary/train/blank/ZJ005110.jpg', 0),\n",
       " ('data_p1/data_binary/train/blank/ZJ005114.jpg', 0),\n",
       " ('data_p1/data_binary/train/blank/ZJ005119.jpg', 0),\n",
       " ('data_p1/data_binary/train/blank/ZJ005128.jpg', 0),\n",
       " ('data_p1/data_binary/train/blank/ZJ005130.jpg', 0),\n",
       " ('data_p1/data_binary/train/blank/ZJ005131.jpg', 0),\n",
       " ('data_p1/data_binary/train/blank/ZJ005133.jpg', 0),\n",
       " ('data_p1/data_binary/train/blank/ZJ005136.jpg', 0),\n",
       " ('data_p1/data_binary/train/blank/ZJ005139.jpg', 0),\n",
       " ('data_p1/data_binary/train/blank/ZJ005143.jpg', 0),\n",
       " ('data_p1/data_binary/train/blank/ZJ005144.jpg', 0),\n",
       " ('data_p1/data_binary/train/blank/ZJ005170.jpg', 0),\n",
       " ('data_p1/data_binary/train/blank/ZJ005173.jpg', 0),\n",
       " ('data_p1/data_binary/train/blank/ZJ005178.jpg', 0),\n",
       " ('data_p1/data_binary/train/blank/ZJ005181.jpg', 0),\n",
       " ('data_p1/data_binary/train/blank/ZJ005185.jpg', 0),\n",
       " ('data_p1/data_binary/train/blank/ZJ005187.jpg', 0),\n",
       " ('data_p1/data_binary/train/blank/ZJ005191.jpg', 0),\n",
       " ('data_p1/data_binary/train/blank/ZJ005195.jpg', 0),\n",
       " ('data_p1/data_binary/train/blank/ZJ005202.jpg', 0),\n",
       " ('data_p1/data_binary/train/blank/ZJ005204.jpg', 0),\n",
       " ('data_p1/data_binary/train/blank/ZJ005205.jpg', 0),\n",
       " ('data_p1/data_binary/train/blank/ZJ005216.jpg', 0),\n",
       " ('data_p1/data_binary/train/blank/ZJ005222.jpg', 0),\n",
       " ('data_p1/data_binary/train/blank/ZJ005224.jpg', 0),\n",
       " ('data_p1/data_binary/train/blank/ZJ005235.jpg', 0),\n",
       " ('data_p1/data_binary/train/blank/ZJ005240.jpg', 0),\n",
       " ('data_p1/data_binary/train/blank/ZJ005265.jpg', 0),\n",
       " ('data_p1/data_binary/train/blank/ZJ005266.jpg', 0),\n",
       " ('data_p1/data_binary/train/blank/ZJ005267.jpg', 0),\n",
       " ('data_p1/data_binary/train/blank/ZJ005279.jpg', 0),\n",
       " ('data_p1/data_binary/train/blank/ZJ005294.jpg', 0),\n",
       " ('data_p1/data_binary/train/blank/ZJ005308.jpg', 0),\n",
       " ('data_p1/data_binary/train/blank/ZJ005322.jpg', 0),\n",
       " ('data_p1/data_binary/train/blank/ZJ005326.jpg', 0),\n",
       " ('data_p1/data_binary/train/blank/ZJ005329.jpg', 0),\n",
       " ('data_p1/data_binary/train/blank/ZJ005335.jpg', 0),\n",
       " ('data_p1/data_binary/train/blank/ZJ005345.jpg', 0),\n",
       " ('data_p1/data_binary/train/blank/ZJ005352.jpg', 0),\n",
       " ('data_p1/data_binary/train/blank/ZJ005359.jpg', 0),\n",
       " ('data_p1/data_binary/train/blank/ZJ005371.jpg', 0),\n",
       " ('data_p1/data_binary/train/blank/ZJ005374.jpg', 0),\n",
       " ('data_p1/data_binary/train/blank/ZJ005375.jpg', 0),\n",
       " ('data_p1/data_binary/train/blank/ZJ005376.jpg', 0),\n",
       " ('data_p1/data_binary/train/blank/ZJ005406.jpg', 0),\n",
       " ('data_p1/data_binary/train/blank/ZJ005430.jpg', 0),\n",
       " ('data_p1/data_binary/train/blank/ZJ005433.jpg', 0),\n",
       " ('data_p1/data_binary/train/blank/ZJ005447.jpg', 0),\n",
       " ('data_p1/data_binary/train/blank/ZJ005449.jpg', 0),\n",
       " ('data_p1/data_binary/train/blank/ZJ005464.jpg', 0),\n",
       " ('data_p1/data_binary/train/blank/ZJ005465.jpg', 0),\n",
       " ('data_p1/data_binary/train/blank/ZJ005484.jpg', 0),\n",
       " ('data_p1/data_binary/train/blank/ZJ005489.jpg', 0),\n",
       " ('data_p1/data_binary/train/blank/ZJ005502.jpg', 0),\n",
       " ('data_p1/data_binary/train/blank/ZJ005508.jpg', 0),\n",
       " ('data_p1/data_binary/train/blank/ZJ005509.jpg', 0),\n",
       " ('data_p1/data_binary/train/blank/ZJ005510.jpg', 0),\n",
       " ('data_p1/data_binary/train/blank/ZJ005526.jpg', 0),\n",
       " ('data_p1/data_binary/train/blank/ZJ005527.jpg', 0),\n",
       " ('data_p1/data_binary/train/blank/ZJ005552.jpg', 0),\n",
       " ('data_p1/data_binary/train/blank/ZJ005558.jpg', 0),\n",
       " ('data_p1/data_binary/train/blank/ZJ005563.jpg', 0),\n",
       " ('data_p1/data_binary/train/blank/ZJ005570.jpg', 0),\n",
       " ('data_p1/data_binary/train/blank/ZJ005572.jpg', 0),\n",
       " ('data_p1/data_binary/train/blank/ZJ005577.jpg', 0),\n",
       " ('data_p1/data_binary/train/blank/ZJ005579.jpg', 0),\n",
       " ('data_p1/data_binary/train/blank/ZJ005596.jpg', 0),\n",
       " ('data_p1/data_binary/train/blank/ZJ005606.jpg', 0),\n",
       " ('data_p1/data_binary/train/blank/ZJ005607.jpg', 0),\n",
       " ('data_p1/data_binary/train/blank/ZJ005616.jpg', 0),\n",
       " ('data_p1/data_binary/train/blank/ZJ005647.jpg', 0),\n",
       " ('data_p1/data_binary/train/blank/ZJ005654.jpg', 0),\n",
       " ('data_p1/data_binary/train/blank/ZJ005656.jpg', 0),\n",
       " ('data_p1/data_binary/train/blank/ZJ005687.jpg', 0),\n",
       " ('data_p1/data_binary/train/blank/ZJ005688.jpg', 0),\n",
       " ('data_p1/data_binary/train/blank/ZJ005700.jpg', 0),\n",
       " ('data_p1/data_binary/train/blank/ZJ005724.jpg', 0),\n",
       " ('data_p1/data_binary/train/blank/ZJ005728.jpg', 0),\n",
       " ('data_p1/data_binary/train/blank/ZJ005740.jpg', 0),\n",
       " ('data_p1/data_binary/train/blank/ZJ005746.jpg', 0),\n",
       " ('data_p1/data_binary/train/blank/ZJ005749.jpg', 0),\n",
       " ('data_p1/data_binary/train/blank/ZJ005758.jpg', 0),\n",
       " ('data_p1/data_binary/train/blank/ZJ005766.jpg', 0),\n",
       " ('data_p1/data_binary/train/blank/ZJ005784.jpg', 0),\n",
       " ('data_p1/data_binary/train/blank/ZJ005787.jpg', 0),\n",
       " ('data_p1/data_binary/train/blank/ZJ005788.jpg', 0),\n",
       " ('data_p1/data_binary/train/blank/ZJ005795.jpg', 0),\n",
       " ('data_p1/data_binary/train/blank/ZJ005805.jpg', 0),\n",
       " ('data_p1/data_binary/train/blank/ZJ005808.jpg', 0),\n",
       " ('data_p1/data_binary/train/blank/ZJ005813.jpg', 0),\n",
       " ('data_p1/data_binary/train/blank/ZJ005819.jpg', 0),\n",
       " ('data_p1/data_binary/train/blank/ZJ005821.jpg', 0),\n",
       " ('data_p1/data_binary/train/blank/ZJ005828.jpg', 0),\n",
       " ('data_p1/data_binary/train/blank/ZJ005837.jpg', 0),\n",
       " ('data_p1/data_binary/train/blank/ZJ005841.jpg', 0),\n",
       " ('data_p1/data_binary/train/blank/ZJ005849.jpg', 0),\n",
       " ('data_p1/data_binary/train/blank/ZJ005865.jpg', 0),\n",
       " ('data_p1/data_binary/train/blank/ZJ005866.jpg', 0),\n",
       " ('data_p1/data_binary/train/blank/ZJ005869.jpg', 0),\n",
       " ('data_p1/data_binary/train/blank/ZJ005871.jpg', 0),\n",
       " ('data_p1/data_binary/train/blank/ZJ005873.jpg', 0),\n",
       " ('data_p1/data_binary/train/blank/ZJ005876.jpg', 0),\n",
       " ('data_p1/data_binary/train/blank/ZJ005877.jpg', 0),\n",
       " ('data_p1/data_binary/train/blank/ZJ005892.jpg', 0),\n",
       " ('data_p1/data_binary/train/blank/ZJ005901.jpg', 0),\n",
       " ('data_p1/data_binary/train/blank/ZJ005907.jpg', 0),\n",
       " ('data_p1/data_binary/train/blank/ZJ005909.jpg', 0),\n",
       " ('data_p1/data_binary/train/blank/ZJ005911.jpg', 0),\n",
       " ('data_p1/data_binary/train/blank/ZJ005917.jpg', 0),\n",
       " ('data_p1/data_binary/train/blank/ZJ005927.jpg', 0),\n",
       " ('data_p1/data_binary/train/blank/ZJ005940.jpg', 0),\n",
       " ('data_p1/data_binary/train/blank/ZJ005943.jpg', 0),\n",
       " ('data_p1/data_binary/train/blank/ZJ005969.jpg', 0),\n",
       " ('data_p1/data_binary/train/blank/ZJ005977.jpg', 0),\n",
       " ('data_p1/data_binary/train/blank/ZJ005983.jpg', 0),\n",
       " ('data_p1/data_binary/train/blank/ZJ005991.jpg', 0),\n",
       " ('data_p1/data_binary/train/blank/ZJ005995.jpg', 0),\n",
       " ('data_p1/data_binary/train/blank/ZJ005999.jpg', 0),\n",
       " ('data_p1/data_binary/train/blank/ZJ006001.jpg', 0),\n",
       " ('data_p1/data_binary/train/blank/ZJ006004.jpg', 0),\n",
       " ('data_p1/data_binary/train/blank/ZJ006022.jpg', 0),\n",
       " ('data_p1/data_binary/train/blank/ZJ006028.jpg', 0),\n",
       " ('data_p1/data_binary/train/blank/ZJ006033.jpg', 0),\n",
       " ('data_p1/data_binary/train/blank/ZJ006034.jpg', 0),\n",
       " ('data_p1/data_binary/train/blank/ZJ006047.jpg', 0),\n",
       " ('data_p1/data_binary/train/blank/ZJ006048.jpg', 0),\n",
       " ('data_p1/data_binary/train/blank/ZJ006053.jpg', 0),\n",
       " ('data_p1/data_binary/train/blank/ZJ006063.jpg', 0),\n",
       " ('data_p1/data_binary/train/blank/ZJ006068.jpg', 0),\n",
       " ('data_p1/data_binary/train/blank/ZJ006069.jpg', 0),\n",
       " ('data_p1/data_binary/train/blank/ZJ006084.jpg', 0),\n",
       " ('data_p1/data_binary/train/blank/ZJ006085.jpg', 0),\n",
       " ('data_p1/data_binary/train/blank/ZJ006097.jpg', 0),\n",
       " ('data_p1/data_binary/train/blank/ZJ006102.jpg', 0),\n",
       " ('data_p1/data_binary/train/blank/ZJ006104.jpg', 0),\n",
       " ('data_p1/data_binary/train/blank/ZJ006105.jpg', 0),\n",
       " ('data_p1/data_binary/train/blank/ZJ006107.jpg', 0),\n",
       " ('data_p1/data_binary/train/blank/ZJ006123.jpg', 0),\n",
       " ('data_p1/data_binary/train/blank/ZJ006125.jpg', 0),\n",
       " ('data_p1/data_binary/train/blank/ZJ006131.jpg', 0),\n",
       " ('data_p1/data_binary/train/blank/ZJ006132.jpg', 0),\n",
       " ('data_p1/data_binary/train/blank/ZJ006135.jpg', 0),\n",
       " ('data_p1/data_binary/train/blank/ZJ006140.jpg', 0),\n",
       " ('data_p1/data_binary/train/blank/ZJ006153.jpg', 0),\n",
       " ('data_p1/data_binary/train/blank/ZJ006157.jpg', 0),\n",
       " ('data_p1/data_binary/train/blank/ZJ006159.jpg', 0),\n",
       " ('data_p1/data_binary/train/blank/ZJ006165.jpg', 0),\n",
       " ('data_p1/data_binary/train/blank/ZJ006174.jpg', 0),\n",
       " ('data_p1/data_binary/train/blank/ZJ006178.jpg', 0),\n",
       " ('data_p1/data_binary/train/blank/ZJ006182.jpg', 0),\n",
       " ('data_p1/data_binary/train/blank/ZJ006183.jpg', 0),\n",
       " ('data_p1/data_binary/train/blank/ZJ006190.jpg', 0),\n",
       " ('data_p1/data_binary/train/blank/ZJ006193.jpg', 0),\n",
       " ('data_p1/data_binary/train/blank/ZJ006220.jpg', 0),\n",
       " ('data_p1/data_binary/train/blank/ZJ006221.jpg', 0),\n",
       " ('data_p1/data_binary/train/blank/ZJ006248.jpg', 0),\n",
       " ('data_p1/data_binary/train/blank/ZJ006265.jpg', 0),\n",
       " ('data_p1/data_binary/train/blank/ZJ006280.jpg', 0),\n",
       " ('data_p1/data_binary/train/blank/ZJ006289.jpg', 0),\n",
       " ('data_p1/data_binary/train/blank/ZJ006290.jpg', 0),\n",
       " ('data_p1/data_binary/train/blank/ZJ006298.jpg', 0),\n",
       " ('data_p1/data_binary/train/blank/ZJ006301.jpg', 0),\n",
       " ('data_p1/data_binary/train/blank/ZJ006305.jpg', 0),\n",
       " ('data_p1/data_binary/train/blank/ZJ006308.jpg', 0),\n",
       " ('data_p1/data_binary/train/blank/ZJ006316.jpg', 0),\n",
       " ('data_p1/data_binary/train/blank/ZJ006318.jpg', 0),\n",
       " ('data_p1/data_binary/train/blank/ZJ006326.jpg', 0),\n",
       " ('data_p1/data_binary/train/blank/ZJ006327.jpg', 0),\n",
       " ('data_p1/data_binary/train/blank/ZJ006331.jpg', 0),\n",
       " ('data_p1/data_binary/train/blank/ZJ006340.jpg', 0),\n",
       " ('data_p1/data_binary/train/blank/ZJ006344.jpg', 0),\n",
       " ('data_p1/data_binary/train/blank/ZJ006348.jpg', 0),\n",
       " ('data_p1/data_binary/train/blank/ZJ006352.jpg', 0),\n",
       " ('data_p1/data_binary/train/blank/ZJ006360.jpg', 0),\n",
       " ('data_p1/data_binary/train/blank/ZJ006367.jpg', 0),\n",
       " ('data_p1/data_binary/train/blank/ZJ006377.jpg', 0),\n",
       " ('data_p1/data_binary/train/blank/ZJ006387.jpg', 0),\n",
       " ('data_p1/data_binary/train/blank/ZJ006397.jpg', 0),\n",
       " ('data_p1/data_binary/train/blank/ZJ006413.jpg', 0),\n",
       " ('data_p1/data_binary/train/blank/ZJ006414.jpg', 0),\n",
       " ('data_p1/data_binary/train/blank/ZJ006420.jpg', 0),\n",
       " ('data_p1/data_binary/train/blank/ZJ006423.jpg', 0),\n",
       " ('data_p1/data_binary/train/blank/ZJ006430.jpg', 0),\n",
       " ('data_p1/data_binary/train/blank/ZJ006435.jpg', 0),\n",
       " ('data_p1/data_binary/train/blank/ZJ006442.jpg', 0),\n",
       " ('data_p1/data_binary/train/blank/ZJ006456.jpg', 0),\n",
       " ('data_p1/data_binary/train/blank/ZJ006463.jpg', 0),\n",
       " ('data_p1/data_binary/train/blank/ZJ006467.jpg', 0),\n",
       " ('data_p1/data_binary/train/blank/ZJ006480.jpg', 0),\n",
       " ('data_p1/data_binary/train/blank/ZJ006482.jpg', 0),\n",
       " ('data_p1/data_binary/train/blank/ZJ006485.jpg', 0),\n",
       " ('data_p1/data_binary/train/blank/ZJ006491.jpg', 0),\n",
       " ('data_p1/data_binary/train/blank/ZJ006497.jpg', 0),\n",
       " ('data_p1/data_binary/train/blank/ZJ006528.jpg', 0),\n",
       " ('data_p1/data_binary/train/blank/ZJ006530.jpg', 0),\n",
       " ('data_p1/data_binary/train/blank/ZJ006533.jpg', 0),\n",
       " ('data_p1/data_binary/train/blank/ZJ006536.jpg', 0),\n",
       " ('data_p1/data_binary/train/blank/ZJ006545.jpg', 0),\n",
       " ('data_p1/data_binary/train/blank/ZJ006567.jpg', 0),\n",
       " ('data_p1/data_binary/train/blank/ZJ006576.jpg', 0),\n",
       " ('data_p1/data_binary/train/blank/ZJ006579.jpg', 0),\n",
       " ('data_p1/data_binary/train/blank/ZJ006586.jpg', 0),\n",
       " ('data_p1/data_binary/train/blank/ZJ006593.jpg', 0),\n",
       " ('data_p1/data_binary/train/blank/ZJ006600.jpg', 0),\n",
       " ('data_p1/data_binary/train/blank/ZJ006610.jpg', 0),\n",
       " ('data_p1/data_binary/train/blank/ZJ006613.jpg', 0),\n",
       " ('data_p1/data_binary/train/blank/ZJ006616.jpg', 0),\n",
       " ('data_p1/data_binary/train/blank/ZJ006617.jpg', 0),\n",
       " ('data_p1/data_binary/train/blank/ZJ006637.jpg', 0),\n",
       " ('data_p1/data_binary/train/blank/ZJ006638.jpg', 0),\n",
       " ('data_p1/data_binary/train/blank/ZJ006647.jpg', 0),\n",
       " ('data_p1/data_binary/train/blank/ZJ006673.jpg', 0),\n",
       " ('data_p1/data_binary/train/blank/ZJ006693.jpg', 0),\n",
       " ('data_p1/data_binary/train/blank/ZJ006700.jpg', 0),\n",
       " ('data_p1/data_binary/train/blank/ZJ006704.jpg', 0),\n",
       " ('data_p1/data_binary/train/blank/ZJ006710.jpg', 0),\n",
       " ('data_p1/data_binary/train/blank/ZJ006717.jpg', 0),\n",
       " ('data_p1/data_binary/train/blank/ZJ006719.jpg', 0),\n",
       " ('data_p1/data_binary/train/blank/ZJ006754.jpg', 0),\n",
       " ('data_p1/data_binary/train/blank/ZJ006773.jpg', 0),\n",
       " ('data_p1/data_binary/train/blank/ZJ006774.jpg', 0),\n",
       " ('data_p1/data_binary/train/blank/ZJ006781.jpg', 0),\n",
       " ('data_p1/data_binary/train/blank/ZJ006810.jpg', 0),\n",
       " ('data_p1/data_binary/train/blank/ZJ006818.jpg', 0),\n",
       " ('data_p1/data_binary/train/blank/ZJ006833.jpg', 0),\n",
       " ('data_p1/data_binary/train/blank/ZJ006860.jpg', 0),\n",
       " ('data_p1/data_binary/train/blank/ZJ006863.jpg', 0),\n",
       " ('data_p1/data_binary/train/blank/ZJ006867.jpg', 0),\n",
       " ('data_p1/data_binary/train/blank/ZJ006871.jpg', 0),\n",
       " ('data_p1/data_binary/train/blank/ZJ006887.jpg', 0),\n",
       " ('data_p1/data_binary/train/blank/ZJ006891.jpg', 0),\n",
       " ('data_p1/data_binary/train/blank/ZJ006894.jpg', 0),\n",
       " ('data_p1/data_binary/train/blank/ZJ006900.jpg', 0),\n",
       " ('data_p1/data_binary/train/blank/ZJ006902.jpg', 0),\n",
       " ('data_p1/data_binary/train/blank/ZJ006903.jpg', 0),\n",
       " ('data_p1/data_binary/train/blank/ZJ006918.jpg', 0),\n",
       " ('data_p1/data_binary/train/blank/ZJ006919.jpg', 0),\n",
       " ('data_p1/data_binary/train/blank/ZJ006924.jpg', 0),\n",
       " ('data_p1/data_binary/train/blank/ZJ006937.jpg', 0),\n",
       " ('data_p1/data_binary/train/blank/ZJ006938.jpg', 0),\n",
       " ('data_p1/data_binary/train/blank/ZJ006946.jpg', 0),\n",
       " ('data_p1/data_binary/train/blank/ZJ006952.jpg', 0),\n",
       " ('data_p1/data_binary/train/blank/ZJ006954.jpg', 0),\n",
       " ('data_p1/data_binary/train/blank/ZJ006956.jpg', 0),\n",
       " ('data_p1/data_binary/train/blank/ZJ006970.jpg', 0),\n",
       " ('data_p1/data_binary/train/blank/ZJ006972.jpg', 0),\n",
       " ('data_p1/data_binary/train/blank/ZJ006985.jpg', 0),\n",
       " ('data_p1/data_binary/train/blank/ZJ006997.jpg', 0),\n",
       " ('data_p1/data_binary/train/blank/ZJ007023.jpg', 0),\n",
       " ('data_p1/data_binary/train/blank/ZJ007027.jpg', 0),\n",
       " ('data_p1/data_binary/train/blank/ZJ007043.jpg', 0),\n",
       " ('data_p1/data_binary/train/blank/ZJ007044.jpg', 0),\n",
       " ('data_p1/data_binary/train/blank/ZJ007046.jpg', 0),\n",
       " ('data_p1/data_binary/train/blank/ZJ007073.jpg', 0),\n",
       " ('data_p1/data_binary/train/blank/ZJ007077.jpg', 0),\n",
       " ('data_p1/data_binary/train/blank/ZJ007093.jpg', 0),\n",
       " ('data_p1/data_binary/train/blank/ZJ007108.jpg', 0),\n",
       " ('data_p1/data_binary/train/blank/ZJ007112.jpg', 0),\n",
       " ('data_p1/data_binary/train/blank/ZJ007114.jpg', 0),\n",
       " ('data_p1/data_binary/train/blank/ZJ007126.jpg', 0),\n",
       " ('data_p1/data_binary/train/blank/ZJ007132.jpg', 0),\n",
       " ('data_p1/data_binary/train/blank/ZJ007137.jpg', 0),\n",
       " ('data_p1/data_binary/train/blank/ZJ007138.jpg', 0),\n",
       " ('data_p1/data_binary/train/blank/ZJ007160.jpg', 0),\n",
       " ('data_p1/data_binary/train/blank/ZJ007163.jpg', 0),\n",
       " ('data_p1/data_binary/train/blank/ZJ007173.jpg', 0),\n",
       " ('data_p1/data_binary/train/blank/ZJ007174.jpg', 0),\n",
       " ('data_p1/data_binary/train/blank/ZJ007178.jpg', 0),\n",
       " ('data_p1/data_binary/train/blank/ZJ007190.jpg', 0),\n",
       " ('data_p1/data_binary/train/blank/ZJ007191.jpg', 0),\n",
       " ('data_p1/data_binary/train/blank/ZJ007192.jpg', 0),\n",
       " ('data_p1/data_binary/train/blank/ZJ007196.jpg', 0),\n",
       " ('data_p1/data_binary/train/blank/ZJ007205.jpg', 0),\n",
       " ('data_p1/data_binary/train/blank/ZJ007218.jpg', 0),\n",
       " ('data_p1/data_binary/train/blank/ZJ007221.jpg', 0),\n",
       " ('data_p1/data_binary/train/blank/ZJ007231.jpg', 0),\n",
       " ('data_p1/data_binary/train/blank/ZJ007232.jpg', 0),\n",
       " ('data_p1/data_binary/train/blank/ZJ007243.jpg', 0),\n",
       " ('data_p1/data_binary/train/blank/ZJ007256.jpg', 0),\n",
       " ('data_p1/data_binary/train/blank/ZJ007290.jpg', 0),\n",
       " ('data_p1/data_binary/train/blank/ZJ007305.jpg', 0),\n",
       " ('data_p1/data_binary/train/blank/ZJ007310.jpg', 0),\n",
       " ('data_p1/data_binary/train/blank/ZJ007313.jpg', 0),\n",
       " ('data_p1/data_binary/train/blank/ZJ007320.jpg', 0),\n",
       " ('data_p1/data_binary/train/blank/ZJ007325.jpg', 0),\n",
       " ('data_p1/data_binary/train/blank/ZJ007331.jpg', 0),\n",
       " ('data_p1/data_binary/train/blank/ZJ007333.jpg', 0),\n",
       " ('data_p1/data_binary/train/blank/ZJ007336.jpg', 0),\n",
       " ('data_p1/data_binary/train/blank/ZJ007359.jpg', 0),\n",
       " ('data_p1/data_binary/train/blank/ZJ007377.jpg', 0),\n",
       " ('data_p1/data_binary/train/blank/ZJ007385.jpg', 0),\n",
       " ...]"
      ]
     },
     "execution_count": 17,
     "metadata": {},
     "output_type": "execute_result"
    }
   ],
   "source": [
    "dataset.imgs"
   ]
  },
  {
   "cell_type": "code",
   "execution_count": 18,
   "id": "bc1196a7-01ff-4b06-87d9-18ad91b9200d",
   "metadata": {},
   "outputs": [
    {
     "data": {
      "text/plain": [
       "{0, 1}"
      ]
     },
     "execution_count": 18,
     "metadata": {},
     "output_type": "execute_result"
    }
   ],
   "source": [
    "img = dataset.imgs\n",
    "\n",
    "distinct_classes = {x[1] for x in dataset.imgs}\n",
    "distinct_classes"
   ]
  },
  {
   "cell_type": "code",
   "execution_count": 19,
   "id": "4fbdcbd2-8951-419c-a1ce-fe2c38b61ec0",
   "metadata": {},
   "outputs": [],
   "source": [
    "g = torch.Generator()\n",
    "g.manual_seed(42)\n",
    "train_dataset, val_dataset = random_split(dataset, [0.8,0.2], generator=g)"
   ]
  },
  {
   "cell_type": "code",
   "execution_count": 20,
   "id": "128602d1-88db-48b5-b88a-18f349a94d1a",
   "metadata": {},
   "outputs": [
    {
     "name": "stdout",
     "output_type": "stream",
     "text": [
      "2553\n",
      "638\n"
     ]
    }
   ],
   "source": [
    "print(len(train_dataset))\n",
    "print(len(val_dataset))"
   ]
  },
  {
   "cell_type": "code",
   "execution_count": 21,
   "id": "f79b89d5-5e71-4a79-a319-c8f1546123f1",
   "metadata": {},
   "outputs": [
    {
     "name": "stdout",
     "output_type": "stream",
     "text": [
      "<class 'torch.utils.data.dataloader.DataLoader'>\n"
     ]
    }
   ],
   "source": [
    "# Important, don't change this!\n",
    "g = torch.Generator()\n",
    "g.manual_seed(42)\n",
    "\n",
    "batch_size = 32\n",
    "train_loader = DataLoader(train_dataset, batch_size=batch_size, shuffle=True, generator=g)\n",
    "\n",
    "val_loader = DataLoader(val_dataset, batch_size=batch_size, shuffle=False, generator=g)\n",
    "\n",
    "print(type(val_loader))"
   ]
  },
  {
   "cell_type": "code",
   "execution_count": 22,
   "id": "a6016283-665a-4758-b94f-cd1ac0d9ecb8",
   "metadata": {},
   "outputs": [],
   "source": [
    "data_iter = iter(train_loader)\n",
    "images, labels = next(data_iter)"
   ]
  },
  {
   "cell_type": "code",
   "execution_count": 23,
   "id": "822f1194-9c5c-42f7-8523-9cf48c3ea646",
   "metadata": {},
   "outputs": [
    {
     "data": {
      "text/plain": [
       "torch.float32"
      ]
     },
     "execution_count": 23,
     "metadata": {},
     "output_type": "execute_result"
    }
   ],
   "source": [
    "images.dtype"
   ]
  },
  {
   "cell_type": "code",
   "execution_count": 24,
   "id": "4133a8b3-b00d-48ee-8538-6dffc0d55fca",
   "metadata": {},
   "outputs": [],
   "source": [
    "flatten = nn.Flatten()\n",
    "tensor_flatten = flatten(images)"
   ]
  },
  {
   "cell_type": "code",
   "execution_count": 25,
   "id": "3a4431a3-1c71-40c5-9c25-e9d7d6bd6835",
   "metadata": {},
   "outputs": [
    {
     "name": "stdout",
     "output_type": "stream",
     "text": [
      "model type: <class 'torch.nn.modules.container.Sequential'>\n",
      "model structure:\n",
      "Sequential(\n",
      "  (0): Flatten(start_dim=1, end_dim=-1)\n",
      "  (1): Linear(in_features=150528, out_features=512, bias=True)\n",
      "  (2): ReLU()\n",
      "  (3): Linear(in_features=512, out_features=128, bias=True)\n",
      "  (4): ReLU()\n",
      ")\n"
     ]
    }
   ],
   "source": [
    "# Image size from our transformer\n",
    "height = 224\n",
    "width = 224\n",
    "\n",
    "model = nn.Sequential(\n",
    "    nn.Flatten(),\n",
    "    nn.Linear(3 * height * width, 512),\n",
    "    nn.ReLU(),\n",
    "    nn.Linear(512, 128),\n",
    "    nn.ReLU(),\n",
    ")\n",
    "\n",
    "print(\"model type:\", type(model))\n",
    "print(\"model structure:\")\n",
    "print(model)"
   ]
  },
  {
   "cell_type": "code",
   "execution_count": 26,
   "id": "476abace-651f-41fb-bffb-36c85327e494",
   "metadata": {},
   "outputs": [
    {
     "name": "stdout",
     "output_type": "stream",
     "text": [
      "Sequential(\n",
      "  (0): Flatten(start_dim=1, end_dim=-1)\n",
      "  (1): Linear(in_features=150528, out_features=512, bias=True)\n",
      "  (2): ReLU()\n",
      "  (3): Linear(in_features=512, out_features=128, bias=True)\n",
      "  (4): ReLU()\n",
      "  (5): Linear(in_features=128, out_features=2, bias=True)\n",
      ")\n"
     ]
    }
   ],
   "source": [
    "output_layer = nn.Linear(128, 2)\n",
    "model.append(output_layer)\n",
    "\n",
    "print(model)"
   ]
  },
  {
   "cell_type": "code",
   "execution_count": 27,
   "id": "b200258b-8256-417c-8942-d8ef825a9944",
   "metadata": {},
   "outputs": [
    {
     "name": "stdout",
     "output_type": "stream",
     "text": [
      "Sequential(\n",
      "  (0): Flatten(start_dim=1, end_dim=-1)\n",
      "  (1): Linear(in_features=150528, out_features=512, bias=True)\n",
      "  (2): ReLU()\n",
      "  (3): Linear(in_features=512, out_features=128, bias=True)\n",
      "  (4): ReLU()\n",
      "  (5): Linear(in_features=128, out_features=2, bias=True)\n",
      ")\n"
     ]
    }
   ],
   "source": [
    "model.to(\"cpu\")\n",
    "\n",
    "print(model)"
   ]
  },
  {
   "cell_type": "code",
   "execution_count": 28,
   "id": "ea83afee-b771-4755-a117-cd120f438f5e",
   "metadata": {},
   "outputs": [
    {
     "data": {
      "text/plain": [
       "==========================================================================================\n",
       "Layer (type:depth-idx)                   Output Shape              Param #\n",
       "==========================================================================================\n",
       "Sequential                               [32, 2]                   --\n",
       "├─Flatten: 1-1                           [32, 150528]              --\n",
       "├─Linear: 1-2                            [32, 512]                 77,070,848\n",
       "├─ReLU: 1-3                              [32, 512]                 --\n",
       "├─Linear: 1-4                            [32, 128]                 65,664\n",
       "├─ReLU: 1-5                              [32, 128]                 --\n",
       "├─Linear: 1-6                            [32, 2]                   258\n",
       "==========================================================================================\n",
       "Total params: 77,136,770\n",
       "Trainable params: 77,136,770\n",
       "Non-trainable params: 0\n",
       "Total mult-adds (Units.GIGABYTES): 2.47\n",
       "==========================================================================================\n",
       "Input size (MB): 19.27\n",
       "Forward/backward pass size (MB): 0.16\n",
       "Params size (MB): 308.55\n",
       "Estimated Total Size (MB): 327.98\n",
       "=========================================================================================="
      ]
     },
     "execution_count": 28,
     "metadata": {},
     "output_type": "execute_result"
    }
   ],
   "source": [
    "summary(model, input_size=(batch_size, 3, height, width))"
   ]
  },
  {
   "cell_type": "code",
   "execution_count": 29,
   "id": "07e035e1-9c00-42d3-ad20-d1dec9de04ae",
   "metadata": {},
   "outputs": [],
   "source": [
    "loss_fn = nn.CrossEntropyLoss()"
   ]
  },
  {
   "cell_type": "code",
   "execution_count": 30,
   "id": "0bbd9889-4bd5-4644-9bf9-3b8a39551ffb",
   "metadata": {},
   "outputs": [],
   "source": [
    "# Define an optimizer\n",
    "optimizer = optim.Adam(model.parameters(), lr=0.001)"
   ]
  },
  {
   "cell_type": "code",
   "execution_count": 31,
   "id": "3a354c04-ec85-4eaa-8e43-0d56900ab615",
   "metadata": {},
   "outputs": [
    {
     "data": {
      "text/plain": [
       "Sequential(\n",
       "  (0): Flatten(start_dim=1, end_dim=-1)\n",
       "  (1): Linear(in_features=150528, out_features=512, bias=True)\n",
       "  (2): ReLU()\n",
       "  (3): Linear(in_features=512, out_features=128, bias=True)\n",
       "  (4): ReLU()\n",
       "  (5): Linear(in_features=128, out_features=2, bias=True)\n",
       ")"
      ]
     },
     "execution_count": 31,
     "metadata": {},
     "output_type": "execute_result"
    }
   ],
   "source": [
    "model.to(\"cpu\")"
   ]
  },
  {
   "cell_type": "code",
   "execution_count": 32,
   "id": "cfbcbe84-6167-4597-a6d0-0de0148fb9f2",
   "metadata": {},
   "outputs": [],
   "source": [
    "def train_epoch(model, optimizer, loss_fn, data_loader, device=\"cpu\"):\n",
    "    training_loss = 0\n",
    "\n",
    "    model.train()\n",
    "\n",
    "    for inputs, targets in tqdm(data_loader, desc=\"Training\", leave=False):\n",
    "        # leave the optimizer as zero, we need to do this time\n",
    "        optimizer.zero_grad()\n",
    "\n",
    "        # Unpack the images and labels to the specified device\n",
    "        inputs.to(device)\n",
    "        targets.to(device)\n",
    "\n",
    "        # We run a forward pass and get our logits, with our logits we can get our loss\n",
    "        outputs = model(inputs)\n",
    "        loss = loss_fn(outputs, targets)\n",
    "\n",
    "        # After calculating our loss function, we find the derivative of the loss function \n",
    "        # with respect to the model trainable weights.\n",
    "        # once we get the gradients, we take a step forward, to update the weights and adjust\n",
    "        # the weights\n",
    "        loss.backward()\n",
    "        optimizer.step()\n",
    "\n",
    "        # we increment the training loss for the current batch\n",
    "        training_loss += loss.data.item() * inputs.size(0)\n",
    "\n",
    "\n",
    "    return training_loss/(len(data_loader.dataset))\n"
   ]
  },
  {
   "cell_type": "code",
   "execution_count": 33,
   "id": "3e1a7e63-724b-4715-8b10-11747e63e94e",
   "metadata": {},
   "outputs": [
    {
     "data": {
      "application/vnd.jupyter.widget-view+json": {
       "model_id": "",
       "version_major": 2,
       "version_minor": 0
      },
      "text/plain": [
       "Training:   0%|          | 0/80 [00:00<?, ?it/s]"
      ]
     },
     "metadata": {},
     "output_type": "display_data"
    },
    {
     "name": "stdout",
     "output_type": "stream",
     "text": [
      "The average loss during the training epoch was 3.44.\n"
     ]
    }
   ],
   "source": [
    "loss_value = train_epoch(model, optimizer, loss_fn, train_loader, device)\n",
    "print(f\"The average loss during the training epoch was {loss_value:.2f}.\")"
   ]
  },
  {
   "cell_type": "code",
   "execution_count": 34,
   "id": "3f4ec1f5-b981-48f0-9249-4c18b4191adc",
   "metadata": {},
   "outputs": [
    {
     "data": {
      "application/vnd.jupyter.widget-view+json": {
       "model_id": "",
       "version_major": 2,
       "version_minor": 0
      },
      "text/plain": [
       "Training:   0%|          | 0/80 [00:00<?, ?it/s]"
      ]
     },
     "metadata": {},
     "output_type": "display_data"
    },
    {
     "name": "stdout",
     "output_type": "stream",
     "text": [
      "the average loss during the training epoch is: 0.58\n"
     ]
    }
   ],
   "source": [
    "loss_value = train_epoch(model, optimizer, loss_fn, train_loader, device)\n",
    "print(f\"the average loss during the training epoch is: {loss_value:.2f}\")"
   ]
  },
  {
   "cell_type": "code",
   "execution_count": 35,
   "id": "9e485fd0-4113-4fe3-a619-27e099ecf0e6",
   "metadata": {},
   "outputs": [],
   "source": [
    "def predict(model, data_loader, device=\"cpu\"):\n",
    "\n",
    "    # intialize a tensor that will store all predictions\n",
    "    all_probs = torch.tensor([]).to(device)\n",
    "\n",
    "    # we set the model to evaluation model\n",
    "    model.eval()\n",
    "\n",
    "    # since we are not evaluating, we don't need gradients, so we set the gradient to zero,\n",
    "    # which speeds up a lot of calculations\n",
    "\n",
    "    with torch.no_grad():\n",
    "\n",
    "        # we iterate over the batches and feed into the model for forward pass\n",
    "        for inputs, targets in tqdm(data_loader, desc=\"Predicting\", leave=False):\n",
    "            inputs.to(device)\n",
    "            targets.to(device)\n",
    "            output = model(inputs)\n",
    "\n",
    "            # the models produces logits, we use softmax to turn into probabilities and \n",
    "            # store into the all_probs tensor\n",
    "            prob = F.softmax(output, dim=1).to(device)\n",
    "            all_probs = torch.cat((all_probs, prob), dim=0)\n",
    "\n",
    "    return all_probs   \n",
    "\n",
    "    "
   ]
  },
  {
   "cell_type": "code",
   "execution_count": 36,
   "id": "75f4a006-cf21-4f82-9cae-705a346e1d2f",
   "metadata": {},
   "outputs": [
    {
     "data": {
      "application/vnd.jupyter.widget-view+json": {
       "model_id": "",
       "version_major": 2,
       "version_minor": 0
      },
      "text/plain": [
       "Predicting:   0%|          | 0/80 [00:00<?, ?it/s]"
      ]
     },
     "metadata": {},
     "output_type": "display_data"
    },
    {
     "name": "stdout",
     "output_type": "stream",
     "text": [
      "torch.Size([2553, 2])\n"
     ]
    }
   ],
   "source": [
    "probabilities_train = predict(model, train_loader, device)\n",
    "print(probabilities_train.shape)"
   ]
  },
  {
   "cell_type": "code",
   "execution_count": 37,
   "id": "83cb0d14-b7fe-42f0-b7b0-001e3a46f07f",
   "metadata": {},
   "outputs": [
    {
     "data": {
      "application/vnd.jupyter.widget-view+json": {
       "model_id": "",
       "version_major": 2,
       "version_minor": 0
      },
      "text/plain": [
       "Predicting:   0%|          | 0/20 [00:00<?, ?it/s]"
      ]
     },
     "metadata": {},
     "output_type": "display_data"
    },
    {
     "name": "stdout",
     "output_type": "stream",
     "text": [
      "torch.Size([638, 2])\n"
     ]
    }
   ],
   "source": [
    "probabilities_val = predict(model, val_loader, device)\n",
    "print(probabilities_val.shape)"
   ]
  },
  {
   "cell_type": "code",
   "execution_count": 38,
   "id": "f3600264-0ebc-4912-b132-700b327a3663",
   "metadata": {},
   "outputs": [
    {
     "name": "stdout",
     "output_type": "stream",
     "text": [
      "tensor([0.0392, 0.9608], device='cuda:0')\n"
     ]
    }
   ],
   "source": [
    "print(probabilities_train[0])"
   ]
  },
  {
   "cell_type": "code",
   "execution_count": 39,
   "id": "6566069f-fc13-47a4-bbc0-77889a75b676",
   "metadata": {},
   "outputs": [
    {
     "name": "stdout",
     "output_type": "stream",
     "text": [
      "tensor(1., device='cuda:0')\n"
     ]
    }
   ],
   "source": [
    "print(probabilities_train[0].sum())"
   ]
  },
  {
   "cell_type": "code",
   "execution_count": 40,
   "id": "dd1e1dfe-7caa-4307-8337-85620b5fa829",
   "metadata": {},
   "outputs": [
    {
     "name": "stdout",
     "output_type": "stream",
     "text": [
      "tensor([0.3591, 0.6409], device='cuda:0')\n"
     ]
    }
   ],
   "source": [
    "print(probabilities_val[0])"
   ]
  },
  {
   "cell_type": "code",
   "execution_count": 41,
   "id": "22d8591e-15cd-4e63-8da8-83d5075b51fc",
   "metadata": {},
   "outputs": [
    {
     "name": "stdout",
     "output_type": "stream",
     "text": [
      "tensor(1., device='cuda:0')\n"
     ]
    }
   ],
   "source": [
    "print(probabilities_val[0].sum())"
   ]
  },
  {
   "cell_type": "code",
   "execution_count": 42,
   "id": "23dcd280-c240-453a-8c63-63a474c553aa",
   "metadata": {},
   "outputs": [
    {
     "name": "stdout",
     "output_type": "stream",
     "text": [
      "Predictions shape: torch.Size([2553])\n",
      "First 10 predictions: tensor([1, 0, 0, 0, 0, 0, 1, 1, 0, 0], device='cuda:0')\n"
     ]
    }
   ],
   "source": [
    "predictions_train = torch.argmax(probabilities_train, 1)\n",
    "\n",
    "print(f\"Predictions shape: {predictions_train.shape}\")\n",
    "print(f\"First 10 predictions: {predictions_train[:10]}\")"
   ]
  },
  {
   "cell_type": "code",
   "execution_count": 43,
   "id": "ee93302a-a138-4240-b25b-6ec879fd9d5e",
   "metadata": {},
   "outputs": [
    {
     "name": "stdout",
     "output_type": "stream",
     "text": [
      "tensor([[0.0392, 0.9608],\n",
      "        [0.5162, 0.4838],\n",
      "        [0.5320, 0.4680],\n",
      "        [0.6131, 0.3869],\n",
      "        [0.5673, 0.4327],\n",
      "        [0.7872, 0.2128],\n",
      "        [0.3490, 0.6510],\n",
      "        [0.3995, 0.6005],\n",
      "        [0.7846, 0.2154],\n",
      "        [0.8262, 0.1738]], device='cuda:0')\n"
     ]
    }
   ],
   "source": [
    "print(probabilities_train[:10])"
   ]
  },
  {
   "cell_type": "code",
   "execution_count": 44,
   "id": "599fe506-65fc-4cec-9705-58505e4d90e7",
   "metadata": {},
   "outputs": [
    {
     "name": "stdout",
     "output_type": "stream",
     "text": [
      "Predictions shape: torch.Size([638])\n",
      "First 10 predictions: tensor([1, 0, 0, 1, 1, 1, 1, 0, 0, 1], device='cuda:0')\n"
     ]
    }
   ],
   "source": [
    "predictions_val = torch.argmax(probabilities_val, dim=1)\n",
    "print(f\"Predictions shape: {predictions_val.shape}\")\n",
    "print(f\"First 10 predictions: {predictions_val[:10]}\")"
   ]
  },
  {
   "cell_type": "code",
   "execution_count": 45,
   "id": "1027c411-fb76-49b9-86b4-cd0ed956f4d0",
   "metadata": {},
   "outputs": [
    {
     "data": {
      "text/plain": [
       "tensor([[0.3591, 0.6409],\n",
       "        [0.8373, 0.1627],\n",
       "        [0.7251, 0.2749],\n",
       "        [0.3099, 0.6901],\n",
       "        [0.1073, 0.8927],\n",
       "        [0.4530, 0.5470],\n",
       "        [0.3640, 0.6360],\n",
       "        [0.8366, 0.1634],\n",
       "        [0.7398, 0.2602],\n",
       "        [0.4016, 0.5984]], device='cuda:0')"
      ]
     },
     "execution_count": 45,
     "metadata": {},
     "output_type": "execute_result"
    }
   ],
   "source": [
    "probabilities_val[:10]"
   ]
  },
  {
   "cell_type": "code",
   "execution_count": 46,
   "id": "ddcabcc4-f5db-464a-9719-9677578ba892",
   "metadata": {},
   "outputs": [
    {
     "name": "stdout",
     "output_type": "stream",
     "text": [
      "Accuracy on the training data: 0.5076380728554641\n"
     ]
    }
   ],
   "source": [
    "targets_train = torch.cat([labels for images, labels in train_loader]).to(device)\n",
    "is_correct_train = torch.eq(targets_train, predictions_train)\n",
    "total_is_correct = torch.sum(is_correct_train).item()\n",
    "accuracy_train = total_is_correct/ len(targets_train)\n",
    "print(f\"Accuracy on the training data: {accuracy_train}\")"
   ]
  },
  {
   "cell_type": "code",
   "execution_count": 47,
   "id": "4e10bd90-76c2-4bb8-90fe-a3198ca9ab0c",
   "metadata": {},
   "outputs": [
    {
     "name": "stdout",
     "output_type": "stream",
     "text": [
      "Accuracy on the validation data: 0.6724137931034483\n"
     ]
    }
   ],
   "source": [
    "targets_val = torch.cat([labels for images, labels in val_loader]).to(device)\n",
    "is_correct_val = torch.eq(targets_val, predictions_val)\n",
    "total_is_correct = torch.sum(is_correct_val).item()\n",
    "accuracy_val = total_is_correct/ len(targets_val)\n",
    "print(f\"Accuracy on the validation data: {accuracy_val}\")"
   ]
  },
  {
   "cell_type": "code",
   "execution_count": 48,
   "id": "bffadb47-8f13-4c05-b239-127c3b4c80a0",
   "metadata": {},
   "outputs": [],
   "source": [
    "\n",
    "\n",
    "def score(model, data_loader, loss_fn, device=\"cpu\"):\n",
    "    # Move model to the specified device\n",
    "    model.to(device)\n",
    "\n",
    "    # Set model to evaluation mode\n",
    "    model.eval()\n",
    "\n",
    "    total_loss = 0.0\n",
    "    total_correct = 0\n",
    "\n",
    "    # Disable gradient calculation for evaluation\n",
    "    with torch.no_grad():\n",
    "        for inputs, targets in tqdm(data_loader, desc=\"Score\", leave=False):\n",
    "            inputs = inputs.to(device)\n",
    "            targets = targets.to(device)\n",
    "\n",
    "            outputs = model(inputs)\n",
    "            loss_value = loss_fn(outputs, targets)\n",
    "\n",
    "            total_loss += loss_value.item() * inputs.size(0)  # sum batch loss\n",
    "            preds = torch.argmax(outputs, dim=1)\n",
    "            total_correct += torch.sum(preds == targets).item()\n",
    "\n",
    "    # Normalize loss and accuracy by dataset size\n",
    "    avg_loss = total_loss / len(data_loader.dataset)\n",
    "    avg_accuracy = total_correct / len(data_loader.dataset)\n",
    "\n",
    "    return avg_loss, avg_accuracy\n"
   ]
  },
  {
   "cell_type": "code",
   "execution_count": 49,
   "id": "b2a6d1c2-4574-4f05-b960-2772fa636de5",
   "metadata": {},
   "outputs": [
    {
     "data": {
      "application/vnd.jupyter.widget-view+json": {
       "model_id": "",
       "version_major": 2,
       "version_minor": 0
      },
      "text/plain": [
       "Score:   0%|          | 0/80 [00:00<?, ?it/s]"
      ]
     },
     "metadata": {},
     "output_type": "display_data"
    },
    {
     "name": "stdout",
     "output_type": "stream",
     "text": [
      "Training accuracy from score function: 0.6878182530356444\n"
     ]
    }
   ],
   "source": [
    "loss_train, accuracy_train = score(model, train_loader, loss_fn, device)\n",
    "print(f\"Training accuracy from score function: {accuracy_train}\")"
   ]
  },
  {
   "cell_type": "code",
   "execution_count": 50,
   "id": "1889cbc2-d76c-49c5-8f64-9546d8dd2a61",
   "metadata": {},
   "outputs": [
    {
     "data": {
      "text/plain": [
       "0.5587388296431763"
      ]
     },
     "execution_count": 50,
     "metadata": {},
     "output_type": "execute_result"
    }
   ],
   "source": [
    "loss_train"
   ]
  },
  {
   "cell_type": "code",
   "execution_count": 51,
   "id": "4f781a19-dd49-498a-9ca4-efdd802923a7",
   "metadata": {},
   "outputs": [
    {
     "data": {
      "application/vnd.jupyter.widget-view+json": {
       "model_id": "",
       "version_major": 2,
       "version_minor": 0
      },
      "text/plain": [
       "Score:   0%|          | 0/20 [00:00<?, ?it/s]"
      ]
     },
     "metadata": {},
     "output_type": "display_data"
    },
    {
     "name": "stdout",
     "output_type": "stream",
     "text": [
      " Validation accuracy from score function: 0.6724137931034483\n"
     ]
    }
   ],
   "source": [
    "loss_val, accuracy_val = score(model, val_loader, loss_fn, device)\n",
    "print(f\" Validation accuracy from score function: {accuracy_val}\")"
   ]
  },
  {
   "cell_type": "code",
   "execution_count": 52,
   "id": "82242055-37aa-4259-b9db-3b1b27d48f6f",
   "metadata": {},
   "outputs": [
    {
     "data": {
      "text/plain": [
       "0.5913408379943393"
      ]
     },
     "execution_count": 52,
     "metadata": {},
     "output_type": "execute_result"
    }
   ],
   "source": [
    "loss_val"
   ]
  },
  {
   "cell_type": "code",
   "execution_count": 58,
   "id": "d74d6378-0f48-45c5-9649-2ad71d598ad1",
   "metadata": {},
   "outputs": [],
   "source": [
    "def train(model, optimizer, loss_fn, train_loader, val_loader, epochs=20, device=\"cpu\"):\n",
    "    \n",
    "    model.to(device)\n",
    "    \n",
    "    for epoch in range(1, epochs + 1):\n",
    "        # Run train_epoch once, and capture the training loss.\n",
    "        training_loss = train_epoch(model, optimizer, loss_fn, train_loader, device)\n",
    "\n",
    "        # Score the model on the validation data.\n",
    "        validation_loss, validation_accuracy = score(model, val_loader, loss_fn, device)\n",
    "\n",
    "        print(\n",
    "            f\"Epoch: {epoch}, Training Loss: {training_loss:.2f}, \"\n",
    "            f\"Validation Loss: {validation_loss:.2f}, Validation Accuracy: {validation_accuracy:.2f}\"\n",
    "        )"
   ]
  },
  {
   "cell_type": "code",
   "execution_count": null,
   "id": "cb19af00-6a77-4b10-8439-6e38db47974b",
   "metadata": {},
   "outputs": [
    {
     "data": {
      "application/vnd.jupyter.widget-view+json": {
       "model_id": "3a9f7c948f70425387c17d2d972b5d14",
       "version_major": 2,
       "version_minor": 0
      },
      "text/plain": [
       "Training:   0%|          | 0/80 [00:00<?, ?it/s]"
      ]
     },
     "metadata": {},
     "output_type": "display_data"
    }
   ],
   "source": [
    "train(model, optimizer, loss_fn, train_loader, val_loader, epochs=10, device=\"cpu\")"
   ]
  },
  {
   "cell_type": "code",
   "execution_count": null,
   "id": "62ccaf35-dc1a-4e8d-9178-dc9760cef1be",
   "metadata": {},
   "outputs": [],
   "source": []
  }
 ],
 "metadata": {
  "kernelspec": {
   "display_name": "Python 3 (ipykernel)",
   "language": "python",
   "name": "python3"
  },
  "language_info": {
   "codemirror_mode": {
    "name": "ipython",
    "version": 3
   },
   "file_extension": ".py",
   "mimetype": "text/x-python",
   "name": "python",
   "nbconvert_exporter": "python",
   "pygments_lexer": "ipython3",
   "version": "3.11.0"
  },
  "widgets": {
   "application/vnd.jupyter.widget-state+json": {
    "state": {
     "03f807f3a2594fbeaa372d5516a21be9": {
      "model_module": "@jupyter-widgets/base",
      "model_module_version": "2.0.0",
      "model_name": "LayoutModel",
      "state": {}
     },
     "09f5dd1aa43c4cab95408d4851e0207d": {
      "model_module": "@jupyter-widgets/controls",
      "model_module_version": "2.0.0",
      "model_name": "HBoxModel",
      "state": {
       "children": [
        "IPY_MODEL_77224797d0834f62a2afbb2eff4f44d6",
        "IPY_MODEL_35cea5f8e7c6405fb33a503ce8122606",
        "IPY_MODEL_f55323bc1417483a8afe21f1484bdb22"
       ],
       "layout": "IPY_MODEL_31bb8289a8d44ae29171a2b1655d78d1"
      }
     },
     "0dfe346310284fecbec99a5d95ac1c00": {
      "model_module": "@jupyter-widgets/base",
      "model_module_version": "2.0.0",
      "model_name": "LayoutModel",
      "state": {}
     },
     "0fcd0ffbbd82407a93d99bf9a7b13eae": {
      "model_module": "@jupyter-widgets/base",
      "model_module_version": "2.0.0",
      "model_name": "LayoutModel",
      "state": {}
     },
     "165174ac8106459b96a8882979142108": {
      "model_module": "@jupyter-widgets/controls",
      "model_module_version": "2.0.0",
      "model_name": "FloatProgressModel",
      "state": {
       "layout": "IPY_MODEL_9ed70e4e47664432b14a364503f5ee4c",
       "max": 80,
       "style": "IPY_MODEL_a38ba7aa32114fe58964302d433d6ec9",
       "value": 80
      }
     },
     "187c4d07355f4a218708fbb40defb3f7": {
      "model_module": "@jupyter-widgets/controls",
      "model_module_version": "2.0.0",
      "model_name": "ProgressStyleModel",
      "state": {
       "description_width": ""
      }
     },
     "188c265859744897a16c792e9d51078e": {
      "model_module": "@jupyter-widgets/base",
      "model_module_version": "2.0.0",
      "model_name": "LayoutModel",
      "state": {}
     },
     "1e8fc277d63047a882466555def8c939": {
      "model_module": "@jupyter-widgets/base",
      "model_module_version": "2.0.0",
      "model_name": "LayoutModel",
      "state": {}
     },
     "202d6ad81cc445b2b11d6cb34b6232c3": {
      "model_module": "@jupyter-widgets/base",
      "model_module_version": "2.0.0",
      "model_name": "LayoutModel",
      "state": {}
     },
     "20797d21dec94ccbb10c1faf8f76886b": {
      "model_module": "@jupyter-widgets/base",
      "model_module_version": "2.0.0",
      "model_name": "LayoutModel",
      "state": {}
     },
     "23aa0696dee34adbbf898b0fcb38c058": {
      "model_module": "@jupyter-widgets/controls",
      "model_module_version": "2.0.0",
      "model_name": "HTMLModel",
      "state": {
       "layout": "IPY_MODEL_0fcd0ffbbd82407a93d99bf9a7b13eae",
       "style": "IPY_MODEL_263212efe1774ad9879d535f8fa8f96b",
       "value": " 0/80 [00:00&lt;?, ?it/s]"
      }
     },
     "23c044641f004331a67ef19e3d7919bc": {
      "model_module": "@jupyter-widgets/base",
      "model_module_version": "2.0.0",
      "model_name": "LayoutModel",
      "state": {}
     },
     "241762dbdf2848a5acfd12cde690622b": {
      "model_module": "@jupyter-widgets/controls",
      "model_module_version": "2.0.0",
      "model_name": "HTMLStyleModel",
      "state": {
       "description_width": "",
       "font_size": null,
       "text_color": null
      }
     },
     "263212efe1774ad9879d535f8fa8f96b": {
      "model_module": "@jupyter-widgets/controls",
      "model_module_version": "2.0.0",
      "model_name": "HTMLStyleModel",
      "state": {
       "description_width": "",
       "font_size": null,
       "text_color": null
      }
     },
     "265a913bd6df456ebaf17590a3b76bb0": {
      "model_module": "@jupyter-widgets/controls",
      "model_module_version": "2.0.0",
      "model_name": "ProgressStyleModel",
      "state": {
       "description_width": ""
      }
     },
     "26efdb8505d749c9b1d3330e2bb6cca8": {
      "model_module": "@jupyter-widgets/controls",
      "model_module_version": "2.0.0",
      "model_name": "FloatProgressModel",
      "state": {
       "layout": "IPY_MODEL_74a439a45d614ff58b8db4980ad999e2",
       "max": 80,
       "style": "IPY_MODEL_bb3e2cd7263d4559b69d36abae3f7b88",
       "value": 80
      }
     },
     "2add95e381f34595862a253dfe8e0cd0": {
      "model_module": "@jupyter-widgets/controls",
      "model_module_version": "2.0.0",
      "model_name": "FloatProgressModel",
      "state": {
       "layout": "IPY_MODEL_bebf49ea2b374352b0b2517c862c5caf",
       "max": 80,
       "style": "IPY_MODEL_265a913bd6df456ebaf17590a3b76bb0",
       "value": 80
      }
     },
     "2e90b444595e4d36b918f9e8c44f81da": {
      "model_module": "@jupyter-widgets/controls",
      "model_module_version": "2.0.0",
      "model_name": "HTMLModel",
      "state": {
       "layout": "IPY_MODEL_7abd5eaf87374a819c93366eae0be5af",
       "style": "IPY_MODEL_7f6c4b5212f7439bae51c7e5e85452d4",
       "value": "Training: 100%"
      }
     },
     "31bb8289a8d44ae29171a2b1655d78d1": {
      "model_module": "@jupyter-widgets/base",
      "model_module_version": "2.0.0",
      "model_name": "LayoutModel",
      "state": {}
     },
     "35427af7d6684cdf8df13fc797433baf": {
      "model_module": "@jupyter-widgets/controls",
      "model_module_version": "2.0.0",
      "model_name": "HTMLStyleModel",
      "state": {
       "description_width": "",
       "font_size": null,
       "text_color": null
      }
     },
     "358730a0a67e4cc8aeab121fbe45bc01": {
      "model_module": "@jupyter-widgets/controls",
      "model_module_version": "2.0.0",
      "model_name": "HTMLStyleModel",
      "state": {
       "description_width": "",
       "font_size": null,
       "text_color": null
      }
     },
     "35912cc9f28145d99d27533270a8838b": {
      "model_module": "@jupyter-widgets/controls",
      "model_module_version": "2.0.0",
      "model_name": "HTMLModel",
      "state": {
       "layout": "IPY_MODEL_c0bac7c28f494705ae7b5cc077919f01",
       "style": "IPY_MODEL_a1aa1ecd5d1643389901ed9e709ce3c2",
       "value": " 80/80 [00:30&lt;00:00,  3.58it/s]"
      }
     },
     "35cea5f8e7c6405fb33a503ce8122606": {
      "model_module": "@jupyter-widgets/controls",
      "model_module_version": "2.0.0",
      "model_name": "FloatProgressModel",
      "state": {
       "bar_style": "danger",
       "layout": "IPY_MODEL_beba012ac44c4ebdbc28a32377072de4",
       "max": 80,
       "style": "IPY_MODEL_df59055dfbe44a99a266398d65b37984"
      }
     },
     "3a9f7c948f70425387c17d2d972b5d14": {
      "model_module": "@jupyter-widgets/controls",
      "model_module_version": "2.0.0",
      "model_name": "HBoxModel",
      "state": {
       "children": [
        "IPY_MODEL_b679c31f19a94cacbf3c133ecb69b93f",
        "IPY_MODEL_e3c59751906345aabe5f089e55b92ad9",
        "IPY_MODEL_ae4879ec719c47cc948eb1c8ee7f3d74"
       ],
       "layout": "IPY_MODEL_764360c997f4448b868192135d0e3e76"
      }
     },
     "3b96e4bc3dc14ce19f2c59fc26c8e4ee": {
      "model_module": "@jupyter-widgets/controls",
      "model_module_version": "2.0.0",
      "model_name": "HTMLStyleModel",
      "state": {
       "description_width": "",
       "font_size": null,
       "text_color": null
      }
     },
     "3e37089a79ba482381c800b8e1e3ce73": {
      "model_module": "@jupyter-widgets/controls",
      "model_module_version": "2.0.0",
      "model_name": "HTMLModel",
      "state": {
       "layout": "IPY_MODEL_c3ddd9022cab4f4691e8476620c3ab87",
       "style": "IPY_MODEL_3b96e4bc3dc14ce19f2c59fc26c8e4ee",
       "value": "Predicting: 100%"
      }
     },
     "4f5dbb5c6fe04f1b93849d8a3b1c0058": {
      "model_module": "@jupyter-widgets/controls",
      "model_module_version": "2.0.0",
      "model_name": "HTMLModel",
      "state": {
       "layout": "IPY_MODEL_501d96957df5479d87f5b6a80a7cb115",
       "style": "IPY_MODEL_846d1dcedb6f4d6a9c15a4d23c4e3b3b",
       "value": "Score: 100%"
      }
     },
     "501d96957df5479d87f5b6a80a7cb115": {
      "model_module": "@jupyter-widgets/base",
      "model_module_version": "2.0.0",
      "model_name": "LayoutModel",
      "state": {}
     },
     "505e18bf1162402b8e6776edc22ca42c": {
      "model_module": "@jupyter-widgets/base",
      "model_module_version": "2.0.0",
      "model_name": "LayoutModel",
      "state": {}
     },
     "5195fb9530cc402a849014de17f0a124": {
      "model_module": "@jupyter-widgets/controls",
      "model_module_version": "2.0.0",
      "model_name": "ProgressStyleModel",
      "state": {
       "description_width": ""
      }
     },
     "52775b5df69e4cf3a812d92400648f45": {
      "model_module": "@jupyter-widgets/base",
      "model_module_version": "2.0.0",
      "model_name": "LayoutModel",
      "state": {}
     },
     "540b56066ff1447a89fdf24f9e96fd63": {
      "model_module": "@jupyter-widgets/base",
      "model_module_version": "2.0.0",
      "model_name": "LayoutModel",
      "state": {}
     },
     "5b622c2356294ab483cd09ab183a9420": {
      "model_module": "@jupyter-widgets/controls",
      "model_module_version": "2.0.0",
      "model_name": "HTMLModel",
      "state": {
       "layout": "IPY_MODEL_98519d27137f4833b8f877724d26773b",
       "style": "IPY_MODEL_db3e9a01ec48474287bbeeb1d713e78f",
       "value": " 20/20 [00:04&lt;00:00,  4.33it/s]"
      }
     },
     "5b682bc72d834f998e0a2976e64b890b": {
      "model_module": "@jupyter-widgets/controls",
      "model_module_version": "2.0.0",
      "model_name": "HTMLStyleModel",
      "state": {
       "description_width": "",
       "font_size": null,
       "text_color": null
      }
     },
     "5d13aeca38c649b8818a852eb924afa3": {
      "model_module": "@jupyter-widgets/base",
      "model_module_version": "2.0.0",
      "model_name": "LayoutModel",
      "state": {}
     },
     "5ee3e3c67c8d48ff9d10a2296f7a052c": {
      "model_module": "@jupyter-widgets/controls",
      "model_module_version": "2.0.0",
      "model_name": "ProgressStyleModel",
      "state": {
       "description_width": ""
      }
     },
     "614407e01abf4c99938bc3286eeb2705": {
      "model_module": "@jupyter-widgets/controls",
      "model_module_version": "2.0.0",
      "model_name": "HTMLStyleModel",
      "state": {
       "description_width": "",
       "font_size": null,
       "text_color": null
      }
     },
     "61545c71ce7e4feda0dc56227ce290ad": {
      "model_module": "@jupyter-widgets/base",
      "model_module_version": "2.0.0",
      "model_name": "LayoutModel",
      "state": {}
     },
     "63e438919bbd4c13af76e1baef122871": {
      "model_module": "@jupyter-widgets/controls",
      "model_module_version": "2.0.0",
      "model_name": "HTMLStyleModel",
      "state": {
       "description_width": "",
       "font_size": null,
       "text_color": null
      }
     },
     "65fd49a17eae41d699ffc430190e47c5": {
      "model_module": "@jupyter-widgets/controls",
      "model_module_version": "2.0.0",
      "model_name": "HTMLStyleModel",
      "state": {
       "description_width": "",
       "font_size": null,
       "text_color": null
      }
     },
     "6aae0a4e77a34ed09c44dbf2657a6ca9": {
      "model_module": "@jupyter-widgets/controls",
      "model_module_version": "2.0.0",
      "model_name": "HTMLModel",
      "state": {
       "layout": "IPY_MODEL_e3f1cb2fddde411db1fd9ae02317083b",
       "style": "IPY_MODEL_65fd49a17eae41d699ffc430190e47c5",
       "value": " 80/80 [01:53&lt;00:00,  1.62s/it]"
      }
     },
     "6d96a31d0d794c43a86e945736f354a0": {
      "model_module": "@jupyter-widgets/controls",
      "model_module_version": "2.0.0",
      "model_name": "HTMLModel",
      "state": {
       "layout": "IPY_MODEL_202d6ad81cc445b2b11d6cb34b6232c3",
       "style": "IPY_MODEL_902e057e35644f419bec327bd4aee4a2",
       "value": "Predicting: 100%"
      }
     },
     "6e54247461de43eca84124423ad57dbb": {
      "model_module": "@jupyter-widgets/controls",
      "model_module_version": "2.0.0",
      "model_name": "HTMLModel",
      "state": {
       "layout": "IPY_MODEL_79dee1fec29a47caaec43c7f496f1c50",
       "style": "IPY_MODEL_358730a0a67e4cc8aeab121fbe45bc01",
       "value": "Training:   0%"
      }
     },
     "6f2fbf1b161e48b0b5d735fa27c4cc3f": {
      "model_module": "@jupyter-widgets/base",
      "model_module_version": "2.0.0",
      "model_name": "LayoutModel",
      "state": {}
     },
     "715cd9a91fb44db78037b7c86822c62b": {
      "model_module": "@jupyter-widgets/controls",
      "model_module_version": "2.0.0",
      "model_name": "HTMLStyleModel",
      "state": {
       "description_width": "",
       "font_size": null,
       "text_color": null
      }
     },
     "74a439a45d614ff58b8db4980ad999e2": {
      "model_module": "@jupyter-widgets/base",
      "model_module_version": "2.0.0",
      "model_name": "LayoutModel",
      "state": {}
     },
     "75498bda3302473cb6100b2e86f607ac": {
      "model_module": "@jupyter-widgets/controls",
      "model_module_version": "2.0.0",
      "model_name": "HTMLModel",
      "state": {
       "layout": "IPY_MODEL_788e6f8646564f40978d83ff6fc788e6",
       "style": "IPY_MODEL_5b682bc72d834f998e0a2976e64b890b",
       "value": " 20/20 [00:02&lt;00:00,  7.36it/s]"
      }
     },
     "75613b26a9b946e6809dd1e4e339b949": {
      "model_module": "@jupyter-widgets/base",
      "model_module_version": "2.0.0",
      "model_name": "LayoutModel",
      "state": {}
     },
     "764360c997f4448b868192135d0e3e76": {
      "model_module": "@jupyter-widgets/base",
      "model_module_version": "2.0.0",
      "model_name": "LayoutModel",
      "state": {}
     },
     "77224797d0834f62a2afbb2eff4f44d6": {
      "model_module": "@jupyter-widgets/controls",
      "model_module_version": "2.0.0",
      "model_name": "HTMLModel",
      "state": {
       "layout": "IPY_MODEL_188c265859744897a16c792e9d51078e",
       "style": "IPY_MODEL_715cd9a91fb44db78037b7c86822c62b",
       "value": "Training:   0%"
      }
     },
     "788e6f8646564f40978d83ff6fc788e6": {
      "model_module": "@jupyter-widgets/base",
      "model_module_version": "2.0.0",
      "model_name": "LayoutModel",
      "state": {}
     },
     "79dee1fec29a47caaec43c7f496f1c50": {
      "model_module": "@jupyter-widgets/base",
      "model_module_version": "2.0.0",
      "model_name": "LayoutModel",
      "state": {}
     },
     "7abd5eaf87374a819c93366eae0be5af": {
      "model_module": "@jupyter-widgets/base",
      "model_module_version": "2.0.0",
      "model_name": "LayoutModel",
      "state": {}
     },
     "7b0091de8a57452b9263333d3ca4f159": {
      "model_module": "@jupyter-widgets/controls",
      "model_module_version": "2.0.0",
      "model_name": "HTMLModel",
      "state": {
       "layout": "IPY_MODEL_e56934e7025c46e1bc6945cbc2d04da8",
       "style": "IPY_MODEL_35427af7d6684cdf8df13fc797433baf",
       "value": " 80/80 [02:02&lt;00:00,  1.34s/it]"
      }
     },
     "7f4dfcabaef74f9dae1b11d40bc6af73": {
      "model_module": "@jupyter-widgets/base",
      "model_module_version": "2.0.0",
      "model_name": "LayoutModel",
      "state": {
       "visibility": "hidden"
      }
     },
     "7f6c4b5212f7439bae51c7e5e85452d4": {
      "model_module": "@jupyter-widgets/controls",
      "model_module_version": "2.0.0",
      "model_name": "HTMLStyleModel",
      "state": {
       "description_width": "",
       "font_size": null,
       "text_color": null
      }
     },
     "81d7d7244a274957af9dc56c4679c167": {
      "model_module": "@jupyter-widgets/controls",
      "model_module_version": "2.0.0",
      "model_name": "HTMLModel",
      "state": {
       "layout": "IPY_MODEL_52775b5df69e4cf3a812d92400648f45",
       "style": "IPY_MODEL_63e438919bbd4c13af76e1baef122871",
       "value": "Score: 100%"
      }
     },
     "846d1dcedb6f4d6a9c15a4d23c4e3b3b": {
      "model_module": "@jupyter-widgets/controls",
      "model_module_version": "2.0.0",
      "model_name": "HTMLStyleModel",
      "state": {
       "description_width": "",
       "font_size": null,
       "text_color": null
      }
     },
     "8b33b9d8f11d4268a70b7b15e307ad0c": {
      "model_module": "@jupyter-widgets/base",
      "model_module_version": "2.0.0",
      "model_name": "LayoutModel",
      "state": {}
     },
     "8e70e7df02004e059e1ac4a86821bb8f": {
      "model_module": "@jupyter-widgets/controls",
      "model_module_version": "2.0.0",
      "model_name": "HTMLModel",
      "state": {
       "layout": "IPY_MODEL_540b56066ff1447a89fdf24f9e96fd63",
       "style": "IPY_MODEL_a6330b10ba824e4fb6ec448706414879",
       "value": "Training:   0%"
      }
     },
     "902e057e35644f419bec327bd4aee4a2": {
      "model_module": "@jupyter-widgets/controls",
      "model_module_version": "2.0.0",
      "model_name": "HTMLStyleModel",
      "state": {
       "description_width": "",
       "font_size": null,
       "text_color": null
      }
     },
     "97a9bdbf6e6548f99abbde27a9d01e80": {
      "model_module": "@jupyter-widgets/controls",
      "model_module_version": "2.0.0",
      "model_name": "HTMLModel",
      "state": {
       "layout": "IPY_MODEL_1e8fc277d63047a882466555def8c939",
       "style": "IPY_MODEL_f83d17bec78d4a1da3c54c0478a30f82",
       "value": " 0/80 [00:00&lt;?, ?it/s]"
      }
     },
     "98519d27137f4833b8f877724d26773b": {
      "model_module": "@jupyter-widgets/base",
      "model_module_version": "2.0.0",
      "model_name": "LayoutModel",
      "state": {}
     },
     "9afdf089780d4d2f814d0e7633469d7b": {
      "model_module": "@jupyter-widgets/base",
      "model_module_version": "2.0.0",
      "model_name": "LayoutModel",
      "state": {}
     },
     "9bac87dec8d3467da840c9ef9220dcd7": {
      "model_module": "@jupyter-widgets/base",
      "model_module_version": "2.0.0",
      "model_name": "LayoutModel",
      "state": {
       "visibility": "hidden"
      }
     },
     "9ed70e4e47664432b14a364503f5ee4c": {
      "model_module": "@jupyter-widgets/base",
      "model_module_version": "2.0.0",
      "model_name": "LayoutModel",
      "state": {}
     },
     "a1aa1ecd5d1643389901ed9e709ce3c2": {
      "model_module": "@jupyter-widgets/controls",
      "model_module_version": "2.0.0",
      "model_name": "HTMLStyleModel",
      "state": {
       "description_width": "",
       "font_size": null,
       "text_color": null
      }
     },
     "a38ba7aa32114fe58964302d433d6ec9": {
      "model_module": "@jupyter-widgets/controls",
      "model_module_version": "2.0.0",
      "model_name": "ProgressStyleModel",
      "state": {
       "description_width": ""
      }
     },
     "a4e0371982b84db19f57981eaff6f241": {
      "model_module": "@jupyter-widgets/base",
      "model_module_version": "2.0.0",
      "model_name": "LayoutModel",
      "state": {}
     },
     "a6330b10ba824e4fb6ec448706414879": {
      "model_module": "@jupyter-widgets/controls",
      "model_module_version": "2.0.0",
      "model_name": "HTMLStyleModel",
      "state": {
       "description_width": "",
       "font_size": null,
       "text_color": null
      }
     },
     "a6a4382330a849829678d74045fd9c47": {
      "model_module": "@jupyter-widgets/controls",
      "model_module_version": "2.0.0",
      "model_name": "FloatProgressModel",
      "state": {
       "bar_style": "danger",
       "layout": "IPY_MODEL_23c044641f004331a67ef19e3d7919bc",
       "max": 80,
       "style": "IPY_MODEL_eee421f0ec4c4ce8965711e7aef53650"
      }
     },
     "ae4879ec719c47cc948eb1c8ee7f3d74": {
      "model_module": "@jupyter-widgets/controls",
      "model_module_version": "2.0.0",
      "model_name": "HTMLModel",
      "state": {
       "layout": "IPY_MODEL_61545c71ce7e4feda0dc56227ce290ad",
       "style": "IPY_MODEL_614407e01abf4c99938bc3286eeb2705",
       "value": " 47/80 [00:58&lt;00:45,  1.37s/it]"
      }
     },
     "af04c173249a48e99506cdb5917362bd": {
      "model_module": "@jupyter-widgets/controls",
      "model_module_version": "2.0.0",
      "model_name": "FloatProgressModel",
      "state": {
       "layout": "IPY_MODEL_75613b26a9b946e6809dd1e4e339b949",
       "max": 80,
       "style": "IPY_MODEL_5195fb9530cc402a849014de17f0a124",
       "value": 80
      }
     },
     "b272ef6ef2e44a4abfd30387529fc868": {
      "model_module": "@jupyter-widgets/base",
      "model_module_version": "2.0.0",
      "model_name": "LayoutModel",
      "state": {
       "visibility": "hidden"
      }
     },
     "b4d04cd499e84efea5e3516d23656e10": {
      "model_module": "@jupyter-widgets/controls",
      "model_module_version": "2.0.0",
      "model_name": "ProgressStyleModel",
      "state": {
       "description_width": ""
      }
     },
     "b679c31f19a94cacbf3c133ecb69b93f": {
      "model_module": "@jupyter-widgets/controls",
      "model_module_version": "2.0.0",
      "model_name": "HTMLModel",
      "state": {
       "layout": "IPY_MODEL_c1b4a47a960948b7980d9ff285bf8f43",
       "style": "IPY_MODEL_c69637454a454bb08e673e9e6cec71d0",
       "value": "Training:  59%"
      }
     },
     "bb3e2cd7263d4559b69d36abae3f7b88": {
      "model_module": "@jupyter-widgets/controls",
      "model_module_version": "2.0.0",
      "model_name": "ProgressStyleModel",
      "state": {
       "description_width": ""
      }
     },
     "beba012ac44c4ebdbc28a32377072de4": {
      "model_module": "@jupyter-widgets/base",
      "model_module_version": "2.0.0",
      "model_name": "LayoutModel",
      "state": {}
     },
     "bebf49ea2b374352b0b2517c862c5caf": {
      "model_module": "@jupyter-widgets/base",
      "model_module_version": "2.0.0",
      "model_name": "LayoutModel",
      "state": {}
     },
     "c0bac7c28f494705ae7b5cc077919f01": {
      "model_module": "@jupyter-widgets/base",
      "model_module_version": "2.0.0",
      "model_name": "LayoutModel",
      "state": {}
     },
     "c140a3182d4a42c0a9aaa717196080b7": {
      "model_module": "@jupyter-widgets/controls",
      "model_module_version": "2.0.0",
      "model_name": "HBoxModel",
      "state": {
       "children": [
        "IPY_MODEL_6e54247461de43eca84124423ad57dbb",
        "IPY_MODEL_d0ec89ee416449be8f6cf947832e8644",
        "IPY_MODEL_97a9bdbf6e6548f99abbde27a9d01e80"
       ],
       "layout": "IPY_MODEL_0dfe346310284fecbec99a5d95ac1c00"
      }
     },
     "c1b4a47a960948b7980d9ff285bf8f43": {
      "model_module": "@jupyter-widgets/base",
      "model_module_version": "2.0.0",
      "model_name": "LayoutModel",
      "state": {}
     },
     "c3ddd9022cab4f4691e8476620c3ab87": {
      "model_module": "@jupyter-widgets/base",
      "model_module_version": "2.0.0",
      "model_name": "LayoutModel",
      "state": {}
     },
     "c69637454a454bb08e673e9e6cec71d0": {
      "model_module": "@jupyter-widgets/controls",
      "model_module_version": "2.0.0",
      "model_name": "HTMLStyleModel",
      "state": {
       "description_width": "",
       "font_size": null,
       "text_color": null
      }
     },
     "cde0c223312341c4abfb9e3698136101": {
      "model_module": "@jupyter-widgets/controls",
      "model_module_version": "2.0.0",
      "model_name": "HTMLModel",
      "state": {
       "layout": "IPY_MODEL_505e18bf1162402b8e6776edc22ca42c",
       "style": "IPY_MODEL_f75c725cf0f345ef94d8f6b22d6068e5",
       "value": " 80/80 [00:10&lt;00:00,  7.67it/s]"
      }
     },
     "d0623bea36cf4b6e9d5f0ad40e3a4e1c": {
      "model_module": "@jupyter-widgets/base",
      "model_module_version": "2.0.0",
      "model_name": "LayoutModel",
      "state": {
       "visibility": "hidden"
      }
     },
     "d0ec89ee416449be8f6cf947832e8644": {
      "model_module": "@jupyter-widgets/controls",
      "model_module_version": "2.0.0",
      "model_name": "FloatProgressModel",
      "state": {
       "bar_style": "danger",
       "layout": "IPY_MODEL_6f2fbf1b161e48b0b5d735fa27c4cc3f",
       "max": 80,
       "style": "IPY_MODEL_b4d04cd499e84efea5e3516d23656e10"
      }
     },
     "d25f89ec33c54b12857b80eb8dc132d7": {
      "model_module": "@jupyter-widgets/controls",
      "model_module_version": "2.0.0",
      "model_name": "ProgressStyleModel",
      "state": {
       "description_width": ""
      }
     },
     "d4eec44e6315465e943cc316aa893022": {
      "model_module": "@jupyter-widgets/controls",
      "model_module_version": "2.0.0",
      "model_name": "HBoxModel",
      "state": {
       "children": [
        "IPY_MODEL_8e70e7df02004e059e1ac4a86821bb8f",
        "IPY_MODEL_a6a4382330a849829678d74045fd9c47",
        "IPY_MODEL_23aa0696dee34adbbf898b0fcb38c058"
       ],
       "layout": "IPY_MODEL_a4e0371982b84db19f57981eaff6f241"
      }
     },
     "db3e9a01ec48474287bbeeb1d713e78f": {
      "model_module": "@jupyter-widgets/controls",
      "model_module_version": "2.0.0",
      "model_name": "HTMLStyleModel",
      "state": {
       "description_width": "",
       "font_size": null,
       "text_color": null
      }
     },
     "df59055dfbe44a99a266398d65b37984": {
      "model_module": "@jupyter-widgets/controls",
      "model_module_version": "2.0.0",
      "model_name": "ProgressStyleModel",
      "state": {
       "description_width": ""
      }
     },
     "e3c59751906345aabe5f089e55b92ad9": {
      "model_module": "@jupyter-widgets/controls",
      "model_module_version": "2.0.0",
      "model_name": "FloatProgressModel",
      "state": {
       "layout": "IPY_MODEL_8b33b9d8f11d4268a70b7b15e307ad0c",
       "max": 80,
       "style": "IPY_MODEL_d25f89ec33c54b12857b80eb8dc132d7",
       "value": 47
      }
     },
     "e3f1cb2fddde411db1fd9ae02317083b": {
      "model_module": "@jupyter-widgets/base",
      "model_module_version": "2.0.0",
      "model_name": "LayoutModel",
      "state": {}
     },
     "e56934e7025c46e1bc6945cbc2d04da8": {
      "model_module": "@jupyter-widgets/base",
      "model_module_version": "2.0.0",
      "model_name": "LayoutModel",
      "state": {}
     },
     "ec95cca3667941adaf1a5291749b80f0": {
      "model_module": "@jupyter-widgets/base",
      "model_module_version": "2.0.0",
      "model_name": "LayoutModel",
      "state": {
       "visibility": "hidden"
      }
     },
     "eda73dfd3fed4c38920103a0824c6b4d": {
      "model_module": "@jupyter-widgets/controls",
      "model_module_version": "2.0.0",
      "model_name": "HTMLStyleModel",
      "state": {
       "description_width": "",
       "font_size": null,
       "text_color": null
      }
     },
     "eee421f0ec4c4ce8965711e7aef53650": {
      "model_module": "@jupyter-widgets/controls",
      "model_module_version": "2.0.0",
      "model_name": "ProgressStyleModel",
      "state": {
       "description_width": ""
      }
     },
     "f0dd603ccc47491ba99320efd5a5c72f": {
      "model_module": "@jupyter-widgets/base",
      "model_module_version": "2.0.0",
      "model_name": "LayoutModel",
      "state": {
       "visibility": "hidden"
      }
     },
     "f288a0305e2f45e982ea7f263156410d": {
      "model_module": "@jupyter-widgets/controls",
      "model_module_version": "2.0.0",
      "model_name": "HTMLModel",
      "state": {
       "layout": "IPY_MODEL_5d13aeca38c649b8818a852eb924afa3",
       "style": "IPY_MODEL_241762dbdf2848a5acfd12cde690622b",
       "value": "Training: 100%"
      }
     },
     "f4e78a6dd27949a28c8c7c5f5d740b9e": {
      "model_module": "@jupyter-widgets/controls",
      "model_module_version": "2.0.0",
      "model_name": "FloatProgressModel",
      "state": {
       "layout": "IPY_MODEL_20797d21dec94ccbb10c1faf8f76886b",
       "max": 20,
       "style": "IPY_MODEL_5ee3e3c67c8d48ff9d10a2296f7a052c",
       "value": 20
      }
     },
     "f55323bc1417483a8afe21f1484bdb22": {
      "model_module": "@jupyter-widgets/controls",
      "model_module_version": "2.0.0",
      "model_name": "HTMLModel",
      "state": {
       "layout": "IPY_MODEL_9afdf089780d4d2f814d0e7633469d7b",
       "style": "IPY_MODEL_eda73dfd3fed4c38920103a0824c6b4d",
       "value": " 0/80 [00:00&lt;?, ?it/s]"
      }
     },
     "f75c725cf0f345ef94d8f6b22d6068e5": {
      "model_module": "@jupyter-widgets/controls",
      "model_module_version": "2.0.0",
      "model_name": "HTMLStyleModel",
      "state": {
       "description_width": "",
       "font_size": null,
       "text_color": null
      }
     },
     "f83d17bec78d4a1da3c54c0478a30f82": {
      "model_module": "@jupyter-widgets/controls",
      "model_module_version": "2.0.0",
      "model_name": "HTMLStyleModel",
      "state": {
       "description_width": "",
       "font_size": null,
       "text_color": null
      }
     },
     "fdbdb81ea7374d1bbce8937921be5645": {
      "model_module": "@jupyter-widgets/controls",
      "model_module_version": "2.0.0",
      "model_name": "FloatProgressModel",
      "state": {
       "layout": "IPY_MODEL_03f807f3a2594fbeaa372d5516a21be9",
       "max": 20,
       "style": "IPY_MODEL_187c4d07355f4a218708fbb40defb3f7",
       "value": 20
      }
     }
    },
    "version_major": 2,
    "version_minor": 0
   }
  }
 },
 "nbformat": 4,
 "nbformat_minor": 5
}
